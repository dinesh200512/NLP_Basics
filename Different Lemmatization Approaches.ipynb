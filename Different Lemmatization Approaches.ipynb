{
 "cells": [
  {
   "cell_type": "markdown",
   "metadata": {},
   "source": [
    "Lemmatization:"
   ]
  },
  {
   "cell_type": "markdown",
   "metadata": {},
   "source": [
    "Lemmatization is a text pre-processing technique used in natural language processing (NLP) models to break a word down to its root meaning to identify similarities"
   ]
  },
  {
   "cell_type": "markdown",
   "metadata": {},
   "source": [
    "Various Approaches to Lemmatization: \n",
    "\n",
    "1.WordNet\n",
    "2.TextBlob\n",
    "3.spaCy\n",
    "4.TreeTagger\n",
    "5.Pattern\n",
    "6.Gensim\n",
    "7.Stanford CoreNLP"
   ]
  },
  {
   "cell_type": "code",
   "execution_count": 13,
   "metadata": {},
   "outputs": [
    {
     "name": "stdout",
     "output_type": "stream",
     "text": [
      "Note: you may need to restart the kernel to use updated packages.\n"
     ]
    },
    {
     "name": "stderr",
     "output_type": "stream",
     "text": [
      "\n",
      "[notice] A new release of pip is available: 24.0 -> 24.1\n",
      "[notice] To update, run: C:\\Users\\91637\\AppData\\Local\\Microsoft\\WindowsApps\\PythonSoftwareFoundation.Python.3.11_qbz5n2kfra8p0\\python.exe -m pip install --upgrade pip\n"
     ]
    },
    {
     "name": "stdout",
     "output_type": "stream",
     "text": [
      "Requirement already satisfied: scipy in c:\\users\\91637\\appdata\\local\\packages\\pythonsoftwarefoundation.python.3.11_qbz5n2kfra8p0\\localcache\\local-packages\\python311\\site-packages (1.13.1)\n",
      "Requirement already satisfied: numpy<2.3,>=1.22.4 in c:\\users\\91637\\appdata\\local\\packages\\pythonsoftwarefoundation.python.3.11_qbz5n2kfra8p0\\localcache\\local-packages\\python311\\site-packages (from scipy) (1.26.0)\n"
     ]
    }
   ],
   "source": [
    "pip install scipy"
   ]
  },
  {
   "cell_type": "code",
   "execution_count": 14,
   "metadata": {},
   "outputs": [
    {
     "name": "stdout",
     "output_type": "stream",
     "text": [
      "Requirement already satisfied: nltk in c:\\users\\91637\\appdata\\local\\packages\\pythonsoftwarefoundation.python.3.11_qbz5n2kfra8p0\\localcache\\local-packages\\python311\\site-packages (3.8.1)\n",
      "Requirement already satisfied: click in c:\\users\\91637\\appdata\\local\\packages\\pythonsoftwarefoundation.python.3.11_qbz5n2kfra8p0\\localcache\\local-packages\\python311\\site-packages (from nltk) (8.1.7)\n",
      "Requirement already satisfied: joblib in c:\\users\\91637\\appdata\\local\\packages\\pythonsoftwarefoundation.python.3.11_qbz5n2kfra8p0\\localcache\\local-packages\\python311\\site-packages (from nltk) (1.4.2)\n",
      "Requirement already satisfied: regex>=2021.8.3 in c:\\users\\91637\\appdata\\local\\packages\\pythonsoftwarefoundation.python.3.11_qbz5n2kfra8p0\\localcache\\local-packages\\python311\\site-packages (from nltk) (2024.5.15)\n",
      "Requirement already satisfied: tqdm in c:\\users\\91637\\appdata\\local\\packages\\pythonsoftwarefoundation.python.3.11_qbz5n2kfra8p0\\localcache\\local-packages\\python311\\site-packages (from nltk) (4.66.4)\n",
      "Requirement already satisfied: colorama in c:\\users\\91637\\appdata\\local\\packages\\pythonsoftwarefoundation.python.3.11_qbz5n2kfra8p0\\localcache\\local-packages\\python311\\site-packages (from click->nltk) (0.4.6)\n",
      "Note: you may need to restart the kernel to use updated packages.\n"
     ]
    },
    {
     "name": "stderr",
     "output_type": "stream",
     "text": [
      "\n",
      "[notice] A new release of pip is available: 24.0 -> 24.1\n",
      "[notice] To update, run: C:\\Users\\91637\\AppData\\Local\\Microsoft\\WindowsApps\\PythonSoftwareFoundation.Python.3.11_qbz5n2kfra8p0\\python.exe -m pip install --upgrade pip\n"
     ]
    }
   ],
   "source": [
    "pip install nltk"
   ]
  },
  {
   "cell_type": "code",
   "execution_count": 15,
   "metadata": {},
   "outputs": [],
   "source": [
    "import nltk"
   ]
  },
  {
   "cell_type": "markdown",
   "metadata": {},
   "source": [
    "1.Wordnet"
   ]
  },
  {
   "cell_type": "markdown",
   "metadata": {},
   "source": [
    "Wordnet is a publicly available lexical database of over 200 languages that provides semantic relationships between its words. It is one of the earliest and most commonly used lemmatizer technique. "
   ]
  },
  {
   "cell_type": "code",
   "execution_count": 16,
   "metadata": {},
   "outputs": [
    {
     "name": "stdout",
     "output_type": "stream",
     "text": [
      "kites ---> kite\n",
      "babies ---> baby\n",
      "dogs ---> dog\n",
      "flying ---> flying\n",
      "smiling ---> smiling\n",
      "driving ---> driving\n",
      "died ---> died\n",
      "tried ---> tried\n",
      "feet ---> foot\n"
     ]
    },
    {
     "name": "stderr",
     "output_type": "stream",
     "text": [
      "[nltk_data] Downloading package wordnet to\n",
      "[nltk_data]     C:\\Users\\91637\\AppData\\Roaming\\nltk_data...\n",
      "[nltk_data]   Package wordnet is already up-to-date!\n"
     ]
    }
   ],
   "source": [
    "nltk.download('wordnet')\n",
    "from nltk.stem import WordNetLemmatizer\n",
    "wnl = WordNetLemmatizer()\n",
    "# single word lemmatization examples\n",
    "list1 = ['kites', 'babies', 'dogs', 'flying', 'smiling', \n",
    "\t\t'driving', 'died', 'tried', 'feet']\n",
    "for words in list1:\n",
    "\tprint(words + \" ---> \" + wnl.lemmatize(words))"
   ]
  },
  {
   "cell_type": "markdown",
   "metadata": {},
   "source": [
    "Wordnet links words into semantic relations. ( eg. synonyms )\n",
    "\n",
    "In WordNet, a \"synset\" (short for \"synonym set\") is a group of synonyms that share the same meaning or sense. Each synset is a unique concept represented by multiple synonymous words or phrases. "
   ]
  },
  {
   "cell_type": "code",
   "execution_count": 17,
   "metadata": {},
   "outputs": [
    {
     "name": "stdout",
     "output_type": "stream",
     "text": [
      "[Synset('dog.n.01'), Synset('frump.n.01'), Synset('dog.n.03'), Synset('cad.n.01'), Synset('frank.n.02'), Synset('pawl.n.01'), Synset('andiron.n.01'), Synset('chase.v.01')]\n",
      "['dog.n.01', 'frump.n.01', 'dog.n.03', 'cad.n.01', 'frank.n.02', 'pawl.n.01', 'andiron.n.01', 'chase.v.01']\n"
     ]
    }
   ],
   "source": [
    "from nltk.corpus import wordnet as wn\n",
    "\n",
    "# Example: Get synonyms for a word\n",
    "word = \"dog\"\n",
    "synonyms = wn.synsets(word)\n",
    "print(synonyms)\n",
    "print([synset.name() for synset in synonyms])\n"
   ]
  },
  {
   "cell_type": "markdown",
   "metadata": {},
   "source": [
    "2.TextBlob"
   ]
  },
  {
   "cell_type": "markdown",
   "metadata": {},
   "source": [
    "TextBlob is a Python library for processing textual data. It provides a simple API for diving into common natural language processing (NLP) tasks such as part-of-speech tagging, noun phrase extraction, sentiment analysis, classification, translation, and more"
   ]
  },
  {
   "cell_type": "markdown",
   "metadata": {},
   "source": [
    "Key Features of TextBlob\n",
    "(i)Noun Phrase Extraction\n",
    "(ii)Sentiment Analysis\n",
    "(iii)Text Classification\n",
    "(iv)Tokenization\n",
    "(v)Word and Phrase Frequencies"
   ]
  },
  {
   "cell_type": "code",
   "execution_count": 18,
   "metadata": {},
   "outputs": [
    {
     "name": "stdout",
     "output_type": "stream",
     "text": [
      "Requirement already satisfied: textblob in c:\\users\\91637\\appdata\\local\\packages\\pythonsoftwarefoundation.python.3.11_qbz5n2kfra8p0\\localcache\\local-packages\\python311\\site-packages (0.18.0.post0)\n",
      "Requirement already satisfied: nltk>=3.8 in c:\\users\\91637\\appdata\\local\\packages\\pythonsoftwarefoundation.python.3.11_qbz5n2kfra8p0\\localcache\\local-packages\\python311\\site-packages (from textblob) (3.8.1)\n",
      "Requirement already satisfied: click in c:\\users\\91637\\appdata\\local\\packages\\pythonsoftwarefoundation.python.3.11_qbz5n2kfra8p0\\localcache\\local-packages\\python311\\site-packages (from nltk>=3.8->textblob) (8.1.7)\n",
      "Requirement already satisfied: joblib in c:\\users\\91637\\appdata\\local\\packages\\pythonsoftwarefoundation.python.3.11_qbz5n2kfra8p0\\localcache\\local-packages\\python311\\site-packages (from nltk>=3.8->textblob) (1.4.2)\n",
      "Requirement already satisfied: regex>=2021.8.3 in c:\\users\\91637\\appdata\\local\\packages\\pythonsoftwarefoundation.python.3.11_qbz5n2kfra8p0\\localcache\\local-packages\\python311\\site-packages (from nltk>=3.8->textblob) (2024.5.15)\n",
      "Requirement already satisfied: tqdm in c:\\users\\91637\\appdata\\local\\packages\\pythonsoftwarefoundation.python.3.11_qbz5n2kfra8p0\\localcache\\local-packages\\python311\\site-packages (from nltk>=3.8->textblob) (4.66.4)\n",
      "Requirement already satisfied: colorama in c:\\users\\91637\\appdata\\local\\packages\\pythonsoftwarefoundation.python.3.11_qbz5n2kfra8p0\\localcache\\local-packages\\python311\\site-packages (from click->nltk>=3.8->textblob) (0.4.6)\n",
      "Note: you may need to restart the kernel to use updated packages.\n"
     ]
    },
    {
     "name": "stderr",
     "output_type": "stream",
     "text": [
      "\n",
      "[notice] A new release of pip is available: 24.0 -> 24.1\n",
      "[notice] To update, run: C:\\Users\\91637\\AppData\\Local\\Microsoft\\WindowsApps\\PythonSoftwareFoundation.Python.3.11_qbz5n2kfra8p0\\python.exe -m pip install --upgrade pip\n"
     ]
    }
   ],
   "source": [
    "pip install textblob"
   ]
  },
  {
   "cell_type": "code",
   "execution_count": 23,
   "metadata": {},
   "outputs": [
    {
     "name": "stderr",
     "output_type": "stream",
     "text": [
      "[nltk_data] Error loading textblob: Package 'textblob' not found in\n",
      "[nltk_data]     index\n"
     ]
    },
    {
     "data": {
      "text/plain": [
       "False"
      ]
     },
     "execution_count": 23,
     "metadata": {},
     "output_type": "execute_result"
    }
   ],
   "source": [
    "nltk.download('')"
   ]
  },
  {
   "cell_type": "code",
   "execution_count": 32,
   "metadata": {},
   "outputs": [
    {
     "name": "stdout",
     "output_type": "stream",
     "text": [
      "Note: you may need to restart the kernel to use updated packages.\n"
     ]
    },
    {
     "name": "stderr",
     "output_type": "stream",
     "text": [
      "\n",
      "[notice] A new release of pip is available: 24.0 -> 24.1\n",
      "[notice] To update, run: C:\\Users\\91637\\AppData\\Local\\Microsoft\\WindowsApps\\PythonSoftwareFoundation.Python.3.11_qbz5n2kfra8p0\\python.exe -m pip install --upgrade pip\n"
     ]
    },
    {
     "name": "stdout",
     "output_type": "stream",
     "text": [
      "Requirement already satisfied: nltk in c:\\users\\91637\\appdata\\local\\packages\\pythonsoftwarefoundation.python.3.11_qbz5n2kfra8p0\\localcache\\local-packages\\python311\\site-packages (3.8.1)\n",
      "Requirement already satisfied: click in c:\\users\\91637\\appdata\\local\\packages\\pythonsoftwarefoundation.python.3.11_qbz5n2kfra8p0\\localcache\\local-packages\\python311\\site-packages (from nltk) (8.1.7)\n",
      "Requirement already satisfied: joblib in c:\\users\\91637\\appdata\\local\\packages\\pythonsoftwarefoundation.python.3.11_qbz5n2kfra8p0\\localcache\\local-packages\\python311\\site-packages (from nltk) (1.4.2)\n",
      "Requirement already satisfied: regex>=2021.8.3 in c:\\users\\91637\\appdata\\local\\packages\\pythonsoftwarefoundation.python.3.11_qbz5n2kfra8p0\\localcache\\local-packages\\python311\\site-packages (from nltk) (2024.5.15)\n",
      "Requirement already satisfied: tqdm in c:\\users\\91637\\appdata\\local\\packages\\pythonsoftwarefoundation.python.3.11_qbz5n2kfra8p0\\localcache\\local-packages\\python311\\site-packages (from nltk) (4.66.4)\n",
      "Requirement already satisfied: colorama in c:\\users\\91637\\appdata\\local\\packages\\pythonsoftwarefoundation.python.3.11_qbz5n2kfra8p0\\localcache\\local-packages\\python311\\site-packages (from click->nltk) (0.4.6)\n"
     ]
    }
   ],
   "source": [
    "pip install --upgrade nltk"
   ]
  },
  {
   "cell_type": "code",
   "execution_count": 24,
   "metadata": {},
   "outputs": [
    {
     "name": "stderr",
     "output_type": "stream",
     "text": [
      "[nltk_data] Downloading package punkt to\n",
      "[nltk_data]     C:\\Users\\91637\\AppData\\Roaming\\nltk_data...\n",
      "[nltk_data]   Unzipping tokenizers\\punkt.zip.\n"
     ]
    },
    {
     "data": {
      "text/plain": [
       "True"
      ]
     },
     "execution_count": 24,
     "metadata": {},
     "output_type": "execute_result"
    }
   ],
   "source": [
    "nltk.download('punkt')"
   ]
  },
  {
   "cell_type": "code",
   "execution_count": 4,
   "metadata": {},
   "outputs": [
    {
     "name": "stderr",
     "output_type": "stream",
     "text": [
      "[nltk_data] Downloading package brown to\n",
      "[nltk_data]     C:\\Users\\91637\\AppData\\Roaming\\nltk_data...\n",
      "[nltk_data]   Unzipping corpora\\brown.zip.\n"
     ]
    },
    {
     "data": {
      "text/plain": [
       "True"
      ]
     },
     "execution_count": 4,
     "metadata": {},
     "output_type": "execute_result"
    }
   ],
   "source": [
    "import nltk\n",
    "nltk.download('brown')"
   ]
  },
  {
   "cell_type": "code",
   "execution_count": 5,
   "metadata": {},
   "outputs": [
    {
     "name": "stdout",
     "output_type": "stream",
     "text": [
      "['natural language processing', 'interesting field']\n"
     ]
    }
   ],
   "source": [
    "#Noun Phrase Extraction\n",
    "from textblob import TextBlob\n",
    "\n",
    "text = \"Natural language processing is an interesting field.\"\n",
    "blob = TextBlob(text)\n",
    "\n",
    "# Extract noun phrases\n",
    "print(blob.noun_phrases)"
   ]
  },
  {
   "cell_type": "code",
   "execution_count": 19,
   "metadata": {},
   "outputs": [
    {
     "name": "stdout",
     "output_type": "stream",
     "text": [
      "Sentiment(polarity=0.4916666666666667, subjectivity=0.6166666666666667)\n"
     ]
    }
   ],
   "source": [
    "#Sentiment Analysis\n",
    "text = \"I love natural language processing. It's incredibly fascinating!\"\n",
    "blob = TextBlob(text)\n",
    "print(blob.sentiment)"
   ]
  },
  {
   "cell_type": "markdown",
   "metadata": {},
   "source": [
    "For text classification, you'll need to train a classifier. Here’s a simple example using Naive Bayes:"
   ]
  },
  {
   "cell_type": "code",
   "execution_count": 11,
   "metadata": {},
   "outputs": [
    {
     "name": "stdout",
     "output_type": "stream",
     "text": [
      "pos\n"
     ]
    }
   ],
   "source": [
    "#Text Classification\n",
    "from textblob.classifiers import NaiveBayesClassifier\n",
    "from textblob import TextBlob\n",
    "\n",
    "# Training data\n",
    "train = [\n",
    "    ('I love this sandwich.', 'pos'),\n",
    "    ('This is an amazing place!', 'pos'),\n",
    "    ('I feel very good about these beers.', 'pos'),\n",
    "    ('This is my best work.', 'pos'),\n",
    "    ('What an awesome view', 'pos'),\n",
    "    ('I do not like this restaurant', 'neg'),\n",
    "    ('I am tired of this stuff.', 'neg'),\n",
    "    ('I can\\'t deal with this', 'neg'),\n",
    "    ('He is my sworn enemy!', 'neg'),\n",
    "    ('My boss is horrible.', 'neg')\n",
    "]\n",
    "\n",
    "# Initialize the classifier\n",
    "classifier = NaiveBayesClassifier(train)\n",
    "\n",
    "# Classify a text\n",
    "text = \"I feel amazing!\"\n",
    "blob = TextBlob(text, classifier=classifier)\n",
    "\n",
    "# Print classification result\n",
    "print(blob.classify())\n",
    "#Output:positive(pos)"
   ]
  },
  {
   "cell_type": "code",
   "execution_count": 20,
   "metadata": {},
   "outputs": [
    {
     "name": "stdout",
     "output_type": "stream",
     "text": [
      "[Sentence(\"TextBlob is a great tool for NLP.\"), Sentence(\"It makes text processing simple.\")]\n",
      "['TextBlob', 'is', 'a', 'great', 'tool', 'for', 'NLP', 'It', 'makes', 'text', 'processing', 'simple']\n"
     ]
    }
   ],
   "source": [
    "#Tokenization\n",
    "text = \"TextBlob is a great tool for NLP. It makes text processing simple.\"\n",
    "blob = TextBlob(text)\n",
    "# Sentence tokenization\n",
    "print(blob.sentences)\n",
    "# Word tokenization\n",
    "print(blob.words)\n"
   ]
  },
  {
   "cell_type": "code",
   "execution_count": 57,
   "metadata": {},
   "outputs": [
    {
     "name": "stdout",
     "output_type": "stream",
     "text": [
      "2\n",
      "2\n"
     ]
    }
   ],
   "source": [
    "#Word and Phrase Frequencies\n",
    "text = \"TextBlob is a great tool for NLP. TextBlob makes text processing simple.\"\n",
    "blob = TextBlob(text)\n",
    "# Word frequency\n",
    "print(blob.word_counts['textblob'])\n",
    "# Noun phrase frequency\n",
    "print(blob.noun_phrases.count('textblob'))"
   ]
  },
  {
   "cell_type": "code",
   "execution_count": 60,
   "metadata": {},
   "outputs": [
    {
     "name": "stdout",
     "output_type": "stream",
     "text": [
      "the bird heard the dog with collar barking loudly at the passing car\n"
     ]
    }
   ],
   "source": [
    "#Lemmatization\n",
    "from textblob import TextBlob\n",
    "sentence = \"the birds heard the dogs with collars barking loudly at the passing cars\"\n",
    "\n",
    "s = TextBlob(sentence)\n",
    "lemmatized_sentence = \" \".join([w.lemmatize() for w in s.words])\n",
    "\n",
    "print(lemmatized_sentence)\n",
    "#> the bat saw the cat with stripe hanging upside down by their foot"
   ]
  },
  {
   "cell_type": "markdown",
   "metadata": {},
   "source": [
    "(iii)Spacy"
   ]
  },
  {
   "cell_type": "code",
   "execution_count": 22,
   "metadata": {},
   "outputs": [
    {
     "name": "stdout",
     "output_type": "stream",
     "text": [
      "Token        POS    Lemma                  Lemma_       Dependency   Children    \n",
      "------------------------------------------------------------------------------------------\n",
      "The          DET    7425985699627899538    the \t det          []\n",
      "children     NOUN   737253710922290542     child \t nsubj        [The]\n",
      "were         AUX    10382539506755952630   be \t aux          []\n",
      "playing      VERB   8228585124152053988    play \t ROOT         [children, were, happily, in, with, .]\n",
      "happily      ADV    11249281353853680722   happily \t advmod       []\n",
      "in           ADP    3002984154512732771    in \t prep         [playground]\n",
      "the          DET    7425985699627899538    the \t det          []\n",
      "playground   NOUN   2840443917650212969    playground \t pobj         [the]\n",
      "with         ADP    12510949447758279278   with \t prep         [toys]\n",
      "their        PRON   4244585616942201722    their \t poss         []\n",
      "colorful     ADJ    9306951126003165228    colorful \t amod         []\n",
      "toys         NOUN   18139153236473879070   toy \t pobj         [their, colorful]\n",
      ".            PUNCT  12646065887601541794   . \t punct        []\n"
     ]
    }
   ],
   "source": [
    "import spacy\n",
    "nlp = spacy.load('en_core_web_sm')\n",
    "def show_lemmas(text):\n",
    "    print(f'{\"Token\":{12}} {\"POS\":{6}} {\"Lemma\":{22}} {\"Lemma_\":{12}} {\"Dependency\":{12}} {\"Children\":{12}}')\n",
    "    print('-' * 90)\n",
    "    for token in text:\n",
    "        print(f'{token.text:{12}} {token.pos_:{6}} {token.lemma:<{22}} {token.lemma_} \\t {token.dep_:{12}} {list(token.children)}')\n",
    "text1=nlp(\"The children were playing happily in the playground with their colorful toys.\")\n",
    "show_lemmas(text1)"
   ]
  },
  {
   "cell_type": "markdown",
   "metadata": {},
   "source": [
    "(iv)TreeTagger"
   ]
  },
  {
   "cell_type": "markdown",
   "metadata": {},
   "source": [
    "The TreeTagger is a tool for annotating text with part-of-speech and lemma information. The TreeTagger has been successfully used to tag over 25 languages and is adaptable to other languages if a manually tagged training corpus is available. "
   ]
  },
  {
   "cell_type": "code",
   "execution_count": 24,
   "metadata": {},
   "outputs": [
    {
     "name": "stdout",
     "output_type": "stream",
     "text": [
      "Collecting treetaggerwrapperNote: you may need to restart the kernel to use updated packages.\n"
     ]
    },
    {
     "name": "stderr",
     "output_type": "stream",
     "text": [
      "\n",
      "[notice] A new release of pip is available: 24.0 -> 24.1\n",
      "[notice] To update, run: C:\\Users\\91637\\AppData\\Local\\Microsoft\\WindowsApps\\PythonSoftwareFoundation.Python.3.11_qbz5n2kfra8p0\\python.exe -m pip install --upgrade pip\n"
     ]
    },
    {
     "name": "stdout",
     "output_type": "stream",
     "text": [
      "\n",
      "  Downloading treetaggerwrapper-2.3.tar.gz (43 kB)\n",
      "     ---------------------------------------- 0.0/43.8 kB ? eta -:--:--\n",
      "     ---------------------------------------- 43.8/43.8 kB 1.1 MB/s eta 0:00:00\n",
      "  Installing build dependencies: started\n",
      "  Installing build dependencies: finished with status 'done'\n",
      "  Getting requirements to build wheel: started\n",
      "  Getting requirements to build wheel: finished with status 'done'\n",
      "  Preparing metadata (pyproject.toml): started\n",
      "  Preparing metadata (pyproject.toml): finished with status 'done'\n",
      "Building wheels for collected packages: treetaggerwrapper\n",
      "  Building wheel for treetaggerwrapper (pyproject.toml): started\n",
      "  Building wheel for treetaggerwrapper (pyproject.toml): finished with status 'done'\n",
      "  Created wheel for treetaggerwrapper: filename=treetaggerwrapper-2.3-py3-none-any.whl size=40789 sha256=a75664096fbea219ae4e19e072d87259b2d51531eed7480420068b4da1f53454\n",
      "  Stored in directory: c:\\users\\91637\\appdata\\local\\pip\\cache\\wheels\\82\\46\\25\\e6c7f0ac70f541d78f6d5346f7382908311a7d8010e8bd30bf\n",
      "Successfully built treetaggerwrapper\n",
      "Installing collected packages: treetaggerwrapper\n",
      "Successfully installed treetaggerwrapper-2.3\n"
     ]
    }
   ],
   "source": [
    "pip install treetaggerwrapper"
   ]
  },
  {
   "cell_type": "code",
   "execution_count": 48,
   "metadata": {},
   "outputs": [
    {
     "name": "stdout",
     "output_type": "stream",
     "text": [
      "Note: you may need to restart the kernel to use updated packages.\n"
     ]
    },
    {
     "name": "stderr",
     "output_type": "stream",
     "text": [
      "ERROR: Could not find a version that satisfies the requirement treetagger (from versions: none)\n",
      "ERROR: No matching distribution found for treetagger\n",
      "\n",
      "[notice] A new release of pip is available: 24.0 -> 24.1\n",
      "[notice] To update, run: C:\\Users\\91637\\AppData\\Local\\Microsoft\\WindowsApps\\PythonSoftwareFoundation.Python.3.11_qbz5n2kfra8p0\\python.exe -m pip install --upgrade pip\n"
     ]
    }
   ],
   "source": [
    "pip install treetagger"
   ]
  },
  {
   "cell_type": "code",
   "execution_count": 62,
   "metadata": {},
   "outputs": [
    {
     "name": "stdout",
     "output_type": "stream",
     "text": [
      "Collecting pandas\n",
      "  Downloading pandas-2.2.2-cp311-cp311-win_amd64.whl.metadata (19 kB)\n",
      "Requirement already satisfied: numpy>=1.23.2 in c:\\users\\91637\\appdata\\local\\packages\\pythonsoftwarefoundation.python.3.11_qbz5n2kfra8p0\\localcache\\local-packages\\python311\\site-packages (from pandas) (1.26.0)\n",
      "Requirement already satisfied: python-dateutil>=2.8.2 in c:\\users\\91637\\appdata\\local\\packages\\pythonsoftwarefoundation.python.3.11_qbz5n2kfra8p0\\localcache\\local-packages\\python311\\site-packages (from pandas) (2.9.0.post0)\n",
      "Collecting pytz>=2020.1 (from pandas)\n",
      "  Downloading pytz-2024.1-py2.py3-none-any.whl.metadata (22 kB)\n",
      "Collecting tzdata>=2022.7 (from pandas)\n",
      "  Downloading tzdata-2024.1-py2.py3-none-any.whl.metadata (1.4 kB)\n",
      "Requirement already satisfied: six>=1.5 in c:\\users\\91637\\appdata\\local\\packages\\pythonsoftwarefoundation.python.3.11_qbz5n2kfra8p0\\localcache\\local-packages\\python311\\site-packages (from python-dateutil>=2.8.2->pandas) (1.16.0)\n",
      "Downloading pandas-2.2.2-cp311-cp311-win_amd64.whl (11.6 MB)\n",
      "   ---------------------------------------- 0.0/11.6 MB ? eta -:--:--\n",
      "   - -------------------------------------- 0.5/11.6 MB 15.5 MB/s eta 0:00:01\n",
      "   -- ------------------------------------- 0.7/11.6 MB 9.5 MB/s eta 0:00:02\n",
      "   --- ------------------------------------ 0.9/11.6 MB 7.3 MB/s eta 0:00:02\n",
      "   --- ------------------------------------ 1.0/11.6 MB 7.0 MB/s eta 0:00:02\n",
      "   --- ------------------------------------ 1.0/11.6 MB 7.0 MB/s eta 0:00:02\n",
      "   --- ------------------------------------ 1.0/11.6 MB 3.9 MB/s eta 0:00:03\n",
      "   ---- ----------------------------------- 1.4/11.6 MB 4.5 MB/s eta 0:00:03\n",
      "   ------ --------------------------------- 1.8/11.6 MB 5.0 MB/s eta 0:00:02\n",
      "   ------ --------------------------------- 2.0/11.6 MB 4.9 MB/s eta 0:00:02\n",
      "   ------- -------------------------------- 2.2/11.6 MB 4.8 MB/s eta 0:00:02\n",
      "   -------- ------------------------------- 2.4/11.6 MB 4.7 MB/s eta 0:00:02\n",
      "   -------- ------------------------------- 2.5/11.6 MB 4.6 MB/s eta 0:00:02\n",
      "   -------- ------------------------------- 2.5/11.6 MB 4.6 MB/s eta 0:00:02\n",
      "   --------- ------------------------------ 2.9/11.6 MB 4.5 MB/s eta 0:00:02\n",
      "   ---------- ----------------------------- 3.1/11.6 MB 4.4 MB/s eta 0:00:02\n",
      "   ----------- ---------------------------- 3.2/11.6 MB 4.4 MB/s eta 0:00:02\n",
      "   ----------- ---------------------------- 3.4/11.6 MB 4.4 MB/s eta 0:00:02\n",
      "   ------------ --------------------------- 3.6/11.6 MB 4.4 MB/s eta 0:00:02\n",
      "   ------------ --------------------------- 3.7/11.6 MB 4.3 MB/s eta 0:00:02\n",
      "   ------------- -------------------------- 3.8/11.6 MB 4.1 MB/s eta 0:00:02\n",
      "   ------------- -------------------------- 4.0/11.6 MB 4.1 MB/s eta 0:00:02\n",
      "   -------------- ------------------------- 4.1/11.6 MB 4.1 MB/s eta 0:00:02\n",
      "   -------------- ------------------------- 4.3/11.6 MB 4.1 MB/s eta 0:00:02\n",
      "   --------------- ------------------------ 4.4/11.6 MB 4.0 MB/s eta 0:00:02\n",
      "   --------------- ------------------------ 4.6/11.6 MB 4.0 MB/s eta 0:00:02\n",
      "   ---------------- ----------------------- 4.7/11.6 MB 3.9 MB/s eta 0:00:02\n",
      "   ---------------- ----------------------- 4.9/11.6 MB 3.9 MB/s eta 0:00:02\n",
      "   ----------------- ---------------------- 5.0/11.6 MB 3.9 MB/s eta 0:00:02\n",
      "   ----------------- ---------------------- 5.0/11.6 MB 3.9 MB/s eta 0:00:02\n",
      "   ------------------ --------------------- 5.4/11.6 MB 3.8 MB/s eta 0:00:02\n",
      "   ------------------- -------------------- 5.6/11.6 MB 3.8 MB/s eta 0:00:02\n",
      "   ------------------- -------------------- 5.6/11.6 MB 3.8 MB/s eta 0:00:02\n",
      "   ------------------- -------------------- 5.8/11.6 MB 3.7 MB/s eta 0:00:02\n",
      "   -------------------- ------------------- 5.9/11.6 MB 3.8 MB/s eta 0:00:02\n",
      "   --------------------- ------------------ 6.1/11.6 MB 3.7 MB/s eta 0:00:02\n",
      "   --------------------- ------------------ 6.3/11.6 MB 3.7 MB/s eta 0:00:02\n",
      "   ---------------------- ----------------- 6.5/11.6 MB 3.7 MB/s eta 0:00:02\n",
      "   ---------------------- ----------------- 6.7/11.6 MB 3.7 MB/s eta 0:00:02\n",
      "   ----------------------- ---------------- 6.9/11.6 MB 3.8 MB/s eta 0:00:02\n",
      "   ------------------------ --------------- 7.1/11.6 MB 3.8 MB/s eta 0:00:02\n",
      "   ------------------------ --------------- 7.2/11.6 MB 3.8 MB/s eta 0:00:02\n",
      "   ------------------------- -------------- 7.4/11.6 MB 3.8 MB/s eta 0:00:02\n",
      "   -------------------------- ------------- 7.6/11.6 MB 3.8 MB/s eta 0:00:02\n",
      "   -------------------------- ------------- 7.8/11.6 MB 3.8 MB/s eta 0:00:02\n",
      "   --------------------------- ------------ 8.0/11.6 MB 3.8 MB/s eta 0:00:01\n",
      "   --------------------------- ------------ 8.1/11.6 MB 3.8 MB/s eta 0:00:01\n",
      "   ---------------------------- ----------- 8.3/11.6 MB 3.8 MB/s eta 0:00:01\n",
      "   ----------------------------- ---------- 8.5/11.6 MB 3.8 MB/s eta 0:00:01\n",
      "   ----------------------------- ---------- 8.7/11.6 MB 3.8 MB/s eta 0:00:01\n",
      "   ------------------------------ --------- 8.8/11.6 MB 3.8 MB/s eta 0:00:01\n",
      "   ------------------------------- -------- 9.0/11.6 MB 3.8 MB/s eta 0:00:01\n",
      "   ------------------------------- -------- 9.2/11.6 MB 3.8 MB/s eta 0:00:01\n",
      "   -------------------------------- ------- 9.4/11.6 MB 3.8 MB/s eta 0:00:01\n",
      "   -------------------------------- ------- 9.6/11.6 MB 3.8 MB/s eta 0:00:01\n",
      "   --------------------------------- ------ 9.7/11.6 MB 3.8 MB/s eta 0:00:01\n",
      "   ---------------------------------- ----- 9.9/11.6 MB 3.8 MB/s eta 0:00:01\n",
      "   ---------------------------------- ----- 10.1/11.6 MB 3.8 MB/s eta 0:00:01\n",
      "   ----------------------------------- ---- 10.3/11.6 MB 3.8 MB/s eta 0:00:01\n",
      "   ------------------------------------ --- 10.5/11.6 MB 3.8 MB/s eta 0:00:01\n",
      "   ------------------------------------ --- 10.6/11.6 MB 3.7 MB/s eta 0:00:01\n",
      "   ------------------------------------- -- 10.8/11.6 MB 3.7 MB/s eta 0:00:01\n",
      "   ------------------------------------- -- 11.0/11.6 MB 3.7 MB/s eta 0:00:01\n",
      "   -------------------------------------- - 11.2/11.6 MB 3.7 MB/s eta 0:00:01\n",
      "   ---------------------------------------  11.4/11.6 MB 3.8 MB/s eta 0:00:01\n",
      "   ---------------------------------------  11.6/11.6 MB 3.7 MB/s eta 0:00:01\n",
      "   ---------------------------------------  11.6/11.6 MB 3.7 MB/s eta 0:00:01\n",
      "   ---------------------------------------  11.6/11.6 MB 3.7 MB/s eta 0:00:01\n",
      "   ---------------------------------------- 11.6/11.6 MB 3.6 MB/s eta 0:00:00\n",
      "Downloading pytz-2024.1-py2.py3-none-any.whl (505 kB)\n",
      "   ---------------------------------------- 0.0/505.5 kB ? eta -:--:--\n",
      "   ---------------------------------- ---- 450.6/505.5 kB 29.4 MB/s eta 0:00:01\n",
      "   ---------------------------------- ---- 450.6/505.5 kB 29.4 MB/s eta 0:00:01\n",
      "   ---------------------------------- ---- 450.6/505.5 kB 29.4 MB/s eta 0:00:01\n",
      "   ---------------------------------------- 505.5/505.5 kB 3.2 MB/s eta 0:00:00\n",
      "Downloading tzdata-2024.1-py2.py3-none-any.whl (345 kB)\n",
      "   ---------------------------------------- 0.0/345.4 kB ? eta -:--:--\n",
      "   --------------------------------------  337.9/345.4 kB 20.5 MB/s eta 0:00:01\n",
      "   ---------------------------------------- 345.4/345.4 kB 7.1 MB/s eta 0:00:00\n",
      "Installing collected packages: pytz, tzdata, pandas\n",
      "Successfully installed pandas-2.2.2 pytz-2024.1 tzdata-2024.1\n",
      "Note: you may need to restart the kernel to use updated packages.\n"
     ]
    },
    {
     "name": "stderr",
     "output_type": "stream",
     "text": [
      "\n",
      "[notice] A new release of pip is available: 24.0 -> 24.1\n",
      "[notice] To update, run: C:\\Users\\91637\\AppData\\Local\\Microsoft\\WindowsApps\\PythonSoftwareFoundation.Python.3.11_qbz5n2kfra8p0\\python.exe -m pip install --upgrade pip\n"
     ]
    }
   ],
   "source": [
    "pip install pandas"
   ]
  },
  {
   "cell_type": "code",
   "execution_count": 63,
   "metadata": {},
   "outputs": [
    {
     "name": "stderr",
     "output_type": "stream",
     "text": [
      "ERROR:TreeTagger:TreeTagger parameter file invalid: english.par\n"
     ]
    },
    {
     "ename": "TreeTaggerError",
     "evalue": "TreeTagger parameter file invalid: english.par",
     "output_type": "error",
     "traceback": [
      "\u001b[1;31m---------------------------------------------------------------------------\u001b[0m",
      "\u001b[1;31mTreeTaggerError\u001b[0m                           Traceback (most recent call last)",
      "Cell \u001b[1;32mIn[63], line 5\u001b[0m\n\u001b[0;32m      2\u001b[0m \u001b[38;5;28;01mimport\u001b[39;00m \u001b[38;5;21;01mpandas\u001b[39;00m \u001b[38;5;28;01mas\u001b[39;00m \u001b[38;5;21;01mpd\u001b[39;00m\n\u001b[0;32m      3\u001b[0m \u001b[38;5;28;01mimport\u001b[39;00m \u001b[38;5;21;01mtreetaggerwrapper\u001b[39;00m \u001b[38;5;28;01mas\u001b[39;00m \u001b[38;5;21;01mtt\u001b[39;00m\n\u001b[1;32m----> 5\u001b[0m t_tagger \u001b[38;5;241m=\u001b[39m \u001b[43mtt\u001b[49m\u001b[38;5;241;43m.\u001b[39;49m\u001b[43mTreeTagger\u001b[49m\u001b[43m(\u001b[49m\u001b[43mTAGLANG\u001b[49m\u001b[43m \u001b[49m\u001b[38;5;241;43m=\u001b[39;49m\u001b[38;5;124;43m'\u001b[39;49m\u001b[38;5;124;43men\u001b[39;49m\u001b[38;5;124;43m'\u001b[39;49m\u001b[43m,\u001b[49m\u001b[43m \u001b[49m\u001b[43mTAGDIR\u001b[49m\u001b[43m \u001b[49m\u001b[38;5;241;43m=\u001b[39;49m\u001b[38;5;124;43m'\u001b[39;49m\u001b[38;5;124;43mC:/Users/91637/Downloads/tree-tagger-windows-3.2.3a (1)/TreeTagger\u001b[39;49m\u001b[38;5;124;43m'\u001b[39;49m\u001b[43m)\u001b[49m\n\u001b[0;32m      7\u001b[0m pos_tags \u001b[38;5;241m=\u001b[39m t_tagger\u001b[38;5;241m.\u001b[39mtag_text(\u001b[38;5;124m\"\u001b[39m\u001b[38;5;124mthe bats saw the cats with best stripes hanging upside down by their feet\u001b[39m\u001b[38;5;124m\"\u001b[39m)\n\u001b[0;32m      9\u001b[0m original \u001b[38;5;241m=\u001b[39m []\n",
      "File \u001b[1;32m~\\AppData\\Local\\Packages\\PythonSoftwareFoundation.Python.3.11_qbz5n2kfra8p0\\LocalCache\\local-packages\\Python311\\site-packages\\treetaggerwrapper.py:1006\u001b[0m, in \u001b[0;36mTreeTagger.__init__\u001b[1;34m(self, **kargs)\u001b[0m\n\u001b[0;32m   1004\u001b[0m logger\u001b[38;5;241m.\u001b[39mdebug(\u001b[38;5;124m\"\u001b[39m\u001b[38;5;124mUsing treetaggerwrapper.py from \u001b[39m\u001b[38;5;132;01m%s\u001b[39;00m\u001b[38;5;124m\"\u001b[39m, osp\u001b[38;5;241m.\u001b[39mabspath(\u001b[38;5;18m__file__\u001b[39m))\n\u001b[0;32m   1005\u001b[0m \u001b[38;5;28mself\u001b[39m\u001b[38;5;241m.\u001b[39m_set_language(kargs)\n\u001b[1;32m-> 1006\u001b[0m \u001b[38;5;28;43mself\u001b[39;49m\u001b[38;5;241;43m.\u001b[39;49m\u001b[43m_set_tagger\u001b[49m\u001b[43m(\u001b[49m\u001b[43mkargs\u001b[49m\u001b[43m)\u001b[49m\n\u001b[0;32m   1007\u001b[0m \u001b[38;5;28mself\u001b[39m\u001b[38;5;241m.\u001b[39m_set_preprocessor(kargs)\n\u001b[0;32m   1008\u001b[0m \u001b[38;5;66;03m# Note: TreeTagger process is started later, when really needed.\u001b[39;00m\n",
      "File \u001b[1;32m~\\AppData\\Local\\Packages\\PythonSoftwareFoundation.Python.3.11_qbz5n2kfra8p0\\LocalCache\\local-packages\\Python311\\site-packages\\treetaggerwrapper.py:1106\u001b[0m, in \u001b[0;36mTreeTagger._set_tagger\u001b[1;34m(self, kargs)\u001b[0m\n\u001b[0;32m   1103\u001b[0m \u001b[38;5;28;01mif\u001b[39;00m \u001b[38;5;129;01mnot\u001b[39;00m parfilefound:\n\u001b[0;32m   1104\u001b[0m     logger\u001b[38;5;241m.\u001b[39merror(\u001b[38;5;124m\"\u001b[39m\u001b[38;5;124mTreeTagger parameter file invalid: \u001b[39m\u001b[38;5;132;01m%s\u001b[39;00m\u001b[38;5;124m\"\u001b[39m,\n\u001b[0;32m   1105\u001b[0m                 \u001b[38;5;28mself\u001b[39m\u001b[38;5;241m.\u001b[39mtagparfile)\n\u001b[1;32m-> 1106\u001b[0m     \u001b[38;5;28;01mraise\u001b[39;00m TreeTaggerError(\u001b[38;5;124m\"\u001b[39m\u001b[38;5;124mTreeTagger parameter file invalid: \u001b[39m\u001b[38;5;124m\"\u001b[39m \u001b[38;5;241m+\u001b[39m \\\n\u001b[0;32m   1107\u001b[0m                         \u001b[38;5;28mself\u001b[39m\u001b[38;5;241m.\u001b[39mtagparfile)\n\u001b[0;32m   1108\u001b[0m \u001b[38;5;28;01melse\u001b[39;00m:\n\u001b[0;32m   1109\u001b[0m     logger\u001b[38;5;241m.\u001b[39minfo(\u001b[38;5;124m\"\u001b[39m\u001b[38;5;124mtagparfile=\u001b[39m\u001b[38;5;132;01m%s\u001b[39;00m\u001b[38;5;124m\"\u001b[39m, \u001b[38;5;28mself\u001b[39m\u001b[38;5;241m.\u001b[39mtagparfile)\n",
      "\u001b[1;31mTreeTaggerError\u001b[0m: TreeTagger parameter file invalid: english.par"
     ]
    }
   ],
   "source": [
    "#TREETAGGER LEMMATIZER\n",
    "import pandas as pd\n",
    "import treetaggerwrapper as tt\n",
    "\n",
    "t_tagger = tt.TreeTagger(TAGLANG ='en', TAGDIR ='C:/Users/91637/Downloads/tree-tagger-windows-3.2.3a (1)/TreeTagger')\n",
    "\n",
    "pos_tags = t_tagger.tag_text(\"the bats saw the cats with best stripes hanging upside down by their feet\")\n",
    "\n",
    "original = []\n",
    "lemmas = []\n",
    "tags = []\n",
    "for t in pos_tags:\n",
    "\toriginal.append(t.split('\\t')[0])\n",
    "\ttags.append(t.split('\\t')[1])\n",
    "\tlemmas.append(t.split('\\t')[-1])\n",
    "\n",
    "Results = pd.DataFrame({'Original': original, 'Lemma': lemmas, 'Tags': tags})\n",
    "print(Results)\n",
    "\n",
    "#>\t Original Lemma Tags\n",
    "# 0\t the\t the DT\n",
    "# 1\t bats\t bat NNS\n",
    "# 2\t saw\t see VVD\n",
    "# 3\t the\t the DT\n",
    "# 4\t cats\t cat NNS\n",
    "# 5\t with with IN\n",
    "# 6\t best good JJS\n",
    "# 7 stripes stripe NNS\n",
    "# 8 hanging hang VVG\n",
    "# 9 upside upside RB\n",
    "# 10\t down down RB\n",
    "# 11\t by\t by IN\n",
    "# 12 their their PP$\n",
    "# 13\t feet foot NNS\n"
   ]
  },
  {
   "cell_type": "markdown",
   "metadata": {},
   "source": [
    "(v)Pattern"
   ]
  },
  {
   "cell_type": "markdown",
   "metadata": {},
   "source": [
    "Pattern is a Python web mining and natural language processing (NLP) library that provides a variety of tools and functionalities for working with textual data. It's designed to handle tasks such as web scraping, text parsing, part-of-speech tagging, sentiment analysis, and more. Pattern aims to simplify the process of extracting useful information from text data by providing high-level abstractions and ready-to-use modules."
   ]
  },
  {
   "cell_type": "code",
   "execution_count": 39,
   "metadata": {},
   "outputs": [
    {
     "name": "stdout",
     "output_type": "stream",
     "text": [
      "Collecting pattern\n",
      "  Downloading Pattern-3.6.0.tar.gz (22.2 MB)\n",
      "     ---------------------------------------- 0.0/22.2 MB ? eta -:--:--\n",
      "     ---------------------------------------- 0.0/22.2 MB ? eta -:--:--\n",
      "     --------------------------------------- 0.0/22.2 MB 165.2 kB/s eta 0:02:15\n",
      "     --------------------------------------- 0.0/22.2 MB 281.8 kB/s eta 0:01:19\n",
      "     --------------------------------------- 0.1/22.2 MB 787.7 kB/s eta 0:00:29\n",
      "     - -------------------------------------- 0.7/22.2 MB 3.4 MB/s eta 0:00:07\n",
      "     - -------------------------------------- 0.9/22.2 MB 3.4 MB/s eta 0:00:07\n",
      "     - -------------------------------------- 1.0/22.2 MB 3.5 MB/s eta 0:00:07\n",
      "     - -------------------------------------- 1.0/22.2 MB 3.5 MB/s eta 0:00:07\n",
      "     - -------------------------------------- 1.0/22.2 MB 3.5 MB/s eta 0:00:07\n",
      "     -- ------------------------------------- 1.5/22.2 MB 3.3 MB/s eta 0:00:07\n",
      "     --- ------------------------------------ 1.8/22.2 MB 3.7 MB/s eta 0:00:06\n",
      "     --- ------------------------------------ 1.9/22.2 MB 3.7 MB/s eta 0:00:06\n",
      "     --- ------------------------------------ 2.1/22.2 MB 3.7 MB/s eta 0:00:06\n",
      "     ---- ----------------------------------- 2.3/22.2 MB 3.7 MB/s eta 0:00:06\n",
      "     ---- ----------------------------------- 2.5/22.2 MB 3.7 MB/s eta 0:00:06\n",
      "     ---- ----------------------------------- 2.7/22.2 MB 3.8 MB/s eta 0:00:06\n",
      "     ----- ---------------------------------- 2.8/22.2 MB 3.8 MB/s eta 0:00:06\n",
      "     ----- ---------------------------------- 3.0/22.2 MB 3.8 MB/s eta 0:00:06\n",
      "     ----- ---------------------------------- 3.2/22.2 MB 3.7 MB/s eta 0:00:06\n",
      "     ------ --------------------------------- 3.4/22.2 MB 3.8 MB/s eta 0:00:06\n",
      "     ------ --------------------------------- 3.5/22.2 MB 3.8 MB/s eta 0:00:05\n",
      "     ------ --------------------------------- 3.7/22.2 MB 3.8 MB/s eta 0:00:05\n",
      "     ------ --------------------------------- 3.9/22.2 MB 3.8 MB/s eta 0:00:05\n",
      "     ------- -------------------------------- 4.1/22.2 MB 3.8 MB/s eta 0:00:05\n",
      "     ------- -------------------------------- 4.2/22.2 MB 3.8 MB/s eta 0:00:05\n",
      "     ------- -------------------------------- 4.4/22.2 MB 3.8 MB/s eta 0:00:05\n",
      "     -------- ------------------------------- 4.6/22.2 MB 3.8 MB/s eta 0:00:05\n",
      "     -------- ------------------------------- 4.8/22.2 MB 3.8 MB/s eta 0:00:05\n",
      "     -------- ------------------------------- 4.9/22.2 MB 3.8 MB/s eta 0:00:05\n",
      "     --------- ------------------------------ 5.1/22.2 MB 3.8 MB/s eta 0:00:05\n",
      "     --------- ------------------------------ 5.3/22.2 MB 3.8 MB/s eta 0:00:05\n",
      "     --------- ------------------------------ 5.5/22.2 MB 3.8 MB/s eta 0:00:05\n",
      "     ---------- ----------------------------- 5.7/22.2 MB 3.8 MB/s eta 0:00:05\n",
      "     ---------- ----------------------------- 5.8/22.2 MB 3.8 MB/s eta 0:00:05\n",
      "     ---------- ----------------------------- 6.0/22.2 MB 3.8 MB/s eta 0:00:05\n",
      "     ----------- ---------------------------- 6.2/22.2 MB 3.8 MB/s eta 0:00:05\n",
      "     ----------- ---------------------------- 6.4/22.2 MB 3.8 MB/s eta 0:00:05\n",
      "     ----------- ---------------------------- 6.6/22.2 MB 3.8 MB/s eta 0:00:05\n",
      "     ------------ --------------------------- 6.7/22.2 MB 3.8 MB/s eta 0:00:05\n",
      "     ------------ --------------------------- 6.9/22.2 MB 3.8 MB/s eta 0:00:04\n",
      "     ------------ --------------------------- 6.9/22.2 MB 3.8 MB/s eta 0:00:04\n",
      "     ------------ --------------------------- 6.9/22.2 MB 3.8 MB/s eta 0:00:04\n",
      "     ------------ --------------------------- 7.1/22.2 MB 3.7 MB/s eta 0:00:05\n",
      "     ------------- -------------------------- 7.6/22.2 MB 3.8 MB/s eta 0:00:04\n",
      "     -------------- ------------------------- 7.8/22.2 MB 3.8 MB/s eta 0:00:04\n",
      "     -------------- ------------------------- 8.0/22.2 MB 3.8 MB/s eta 0:00:04\n",
      "     -------------- ------------------------- 8.1/22.2 MB 3.8 MB/s eta 0:00:04\n",
      "     -------------- ------------------------- 8.3/22.2 MB 3.8 MB/s eta 0:00:04\n",
      "     --------------- ------------------------ 8.5/22.2 MB 3.8 MB/s eta 0:00:04\n",
      "     --------------- ------------------------ 8.7/22.2 MB 3.8 MB/s eta 0:00:04\n",
      "     --------------- ------------------------ 8.8/22.2 MB 3.8 MB/s eta 0:00:04\n",
      "     ---------------- ----------------------- 9.0/22.2 MB 3.8 MB/s eta 0:00:04\n",
      "     ---------------- ----------------------- 9.2/22.2 MB 3.8 MB/s eta 0:00:04\n",
      "     ---------------- ----------------------- 9.4/22.2 MB 3.8 MB/s eta 0:00:04\n",
      "     ----------------- ---------------------- 9.6/22.2 MB 3.8 MB/s eta 0:00:04\n",
      "     ----------------- ---------------------- 9.7/22.2 MB 3.8 MB/s eta 0:00:04\n",
      "     ----------------- ---------------------- 9.9/22.2 MB 3.8 MB/s eta 0:00:04\n",
      "     ------------------ --------------------- 10.1/22.2 MB 3.8 MB/s eta 0:00:04\n",
      "     ------------------ --------------------- 10.2/22.2 MB 3.9 MB/s eta 0:00:04\n",
      "     ------------------ --------------------- 10.2/22.2 MB 3.9 MB/s eta 0:00:04\n",
      "     ------------------- -------------------- 10.6/22.2 MB 3.9 MB/s eta 0:00:03\n",
      "     ------------------- -------------------- 10.8/22.2 MB 3.9 MB/s eta 0:00:03\n",
      "     ------------------- -------------------- 11.0/22.2 MB 3.9 MB/s eta 0:00:03\n",
      "     ------------------- -------------------- 11.0/22.2 MB 3.9 MB/s eta 0:00:03\n",
      "     -------------------- ------------------- 11.3/22.2 MB 4.0 MB/s eta 0:00:03\n",
      "     -------------------- ------------------- 11.5/22.2 MB 4.0 MB/s eta 0:00:03\n",
      "     -------------------- ------------------- 11.7/22.2 MB 3.9 MB/s eta 0:00:03\n",
      "     --------------------- ------------------ 11.9/22.2 MB 3.9 MB/s eta 0:00:03\n",
      "     --------------------- ------------------ 12.0/22.2 MB 3.9 MB/s eta 0:00:03\n",
      "     --------------------- ------------------ 12.2/22.2 MB 3.9 MB/s eta 0:00:03\n",
      "     ---------------------- ----------------- 12.2/22.2 MB 3.8 MB/s eta 0:00:03\n",
      "     ---------------------- ----------------- 12.3/22.2 MB 3.8 MB/s eta 0:00:03\n",
      "     ---------------------- ----------------- 12.4/22.2 MB 3.8 MB/s eta 0:00:03\n",
      "     ---------------------- ----------------- 12.5/22.2 MB 3.7 MB/s eta 0:00:03\n",
      "     ---------------------- ----------------- 12.6/22.2 MB 3.7 MB/s eta 0:00:03\n",
      "     ---------------------- ----------------- 12.6/22.2 MB 3.6 MB/s eta 0:00:03\n",
      "     ---------------------- ----------------- 12.6/22.2 MB 3.6 MB/s eta 0:00:03\n",
      "     ----------------------- ---------------- 12.9/22.2 MB 3.6 MB/s eta 0:00:03\n",
      "     ----------------------- ---------------- 13.0/22.2 MB 3.5 MB/s eta 0:00:03\n",
      "     ----------------------- ---------------- 13.0/22.2 MB 3.5 MB/s eta 0:00:03\n",
      "     ----------------------- ---------------- 13.1/22.2 MB 3.5 MB/s eta 0:00:03\n",
      "     ----------------------- ---------------- 13.2/22.2 MB 3.4 MB/s eta 0:00:03\n",
      "     ----------------------- ---------------- 13.3/22.2 MB 3.4 MB/s eta 0:00:03\n",
      "     ----------------------- ---------------- 13.3/22.2 MB 3.4 MB/s eta 0:00:03\n",
      "     ------------------------ --------------- 13.4/22.2 MB 3.4 MB/s eta 0:00:03\n",
      "     ------------------------ --------------- 13.5/22.2 MB 3.3 MB/s eta 0:00:03\n",
      "     ------------------------ --------------- 13.6/22.2 MB 3.3 MB/s eta 0:00:03\n",
      "     ------------------------ --------------- 13.6/22.2 MB 3.3 MB/s eta 0:00:03\n",
      "     ------------------------ --------------- 13.7/22.2 MB 3.2 MB/s eta 0:00:03\n",
      "     ------------------------ --------------- 13.8/22.2 MB 3.2 MB/s eta 0:00:03\n",
      "     ------------------------ --------------- 13.9/22.2 MB 3.2 MB/s eta 0:00:03\n",
      "     ------------------------- -------------- 14.0/22.2 MB 3.2 MB/s eta 0:00:03\n",
      "     ------------------------- -------------- 14.0/22.2 MB 3.2 MB/s eta 0:00:03\n",
      "     ------------------------- -------------- 14.2/22.2 MB 3.1 MB/s eta 0:00:03\n",
      "     ------------------------- -------------- 14.2/22.2 MB 3.1 MB/s eta 0:00:03\n",
      "     ------------------------- -------------- 14.3/22.2 MB 3.1 MB/s eta 0:00:03\n",
      "     ------------------------- -------------- 14.4/22.2 MB 3.1 MB/s eta 0:00:03\n",
      "     -------------------------- ------------- 14.5/22.2 MB 3.0 MB/s eta 0:00:03\n",
      "     -------------------------- ------------- 14.6/22.2 MB 3.0 MB/s eta 0:00:03\n",
      "     -------------------------- ------------- 14.7/22.2 MB 3.0 MB/s eta 0:00:03\n",
      "     -------------------------- ------------- 14.8/22.2 MB 3.0 MB/s eta 0:00:03\n",
      "     -------------------------- ------------- 14.9/22.2 MB 3.0 MB/s eta 0:00:03\n",
      "     -------------------------- ------------- 15.0/22.2 MB 2.9 MB/s eta 0:00:03\n",
      "     --------------------------- ------------ 15.1/22.2 MB 2.9 MB/s eta 0:00:03\n",
      "     --------------------------- ------------ 15.2/22.2 MB 2.9 MB/s eta 0:00:03\n",
      "     --------------------------- ------------ 15.3/22.2 MB 2.9 MB/s eta 0:00:03\n",
      "     --------------------------- ------------ 15.4/22.2 MB 2.9 MB/s eta 0:00:03\n",
      "     --------------------------- ------------ 15.5/22.2 MB 2.9 MB/s eta 0:00:03\n",
      "     ---------------------------- ----------- 15.6/22.2 MB 2.9 MB/s eta 0:00:03\n",
      "     ---------------------------- ----------- 15.7/22.2 MB 2.8 MB/s eta 0:00:03\n",
      "     ---------------------------- ----------- 15.9/22.2 MB 2.8 MB/s eta 0:00:03\n",
      "     ---------------------------- ----------- 16.0/22.2 MB 2.8 MB/s eta 0:00:03\n",
      "     ---------------------------- ----------- 16.1/22.2 MB 2.8 MB/s eta 0:00:03\n",
      "     ----------------------------- ---------- 16.2/22.2 MB 2.8 MB/s eta 0:00:03\n",
      "     ----------------------------- ---------- 16.3/22.2 MB 2.8 MB/s eta 0:00:03\n",
      "     ----------------------------- ---------- 16.4/22.2 MB 2.8 MB/s eta 0:00:03\n",
      "     ----------------------------- ---------- 16.5/22.2 MB 2.8 MB/s eta 0:00:03\n",
      "     ----------------------------- ---------- 16.6/22.2 MB 2.7 MB/s eta 0:00:03\n",
      "     ----------------------------- ---------- 16.7/22.2 MB 2.7 MB/s eta 0:00:03\n",
      "     ----------------------------- ---------- 16.7/22.2 MB 2.7 MB/s eta 0:00:03\n",
      "     ------------------------------ --------- 16.9/22.2 MB 2.7 MB/s eta 0:00:02\n",
      "     ------------------------------ --------- 17.0/22.2 MB 2.7 MB/s eta 0:00:02\n",
      "     ------------------------------ --------- 17.2/22.2 MB 2.7 MB/s eta 0:00:02\n",
      "     ------------------------------- -------- 17.3/22.2 MB 2.7 MB/s eta 0:00:02\n",
      "     ------------------------------- -------- 17.4/22.2 MB 2.7 MB/s eta 0:00:02\n",
      "     ------------------------------- -------- 17.4/22.2 MB 2.7 MB/s eta 0:00:02\n",
      "     ------------------------------- -------- 17.5/22.2 MB 2.6 MB/s eta 0:00:02\n",
      "     ------------------------------- -------- 17.6/22.2 MB 2.6 MB/s eta 0:00:02\n",
      "     ------------------------------- -------- 17.7/22.2 MB 2.6 MB/s eta 0:00:02\n",
      "     ------------------------------- -------- 17.7/22.2 MB 2.6 MB/s eta 0:00:02\n",
      "     -------------------------------- ------- 17.8/22.2 MB 2.5 MB/s eta 0:00:02\n",
      "     -------------------------------- ------- 18.0/22.2 MB 2.5 MB/s eta 0:00:02\n",
      "     -------------------------------- ------- 18.1/22.2 MB 2.5 MB/s eta 0:00:02\n",
      "     -------------------------------- ------- 18.2/22.2 MB 2.5 MB/s eta 0:00:02\n",
      "     -------------------------------- ------- 18.2/22.2 MB 2.5 MB/s eta 0:00:02\n",
      "     -------------------------------- ------- 18.3/22.2 MB 2.5 MB/s eta 0:00:02\n",
      "     --------------------------------- ------ 18.4/22.2 MB 2.5 MB/s eta 0:00:02\n",
      "     --------------------------------- ------ 18.4/22.2 MB 2.4 MB/s eta 0:00:02\n",
      "     --------------------------------- ------ 18.5/22.2 MB 2.4 MB/s eta 0:00:02\n",
      "     --------------------------------- ------ 18.6/22.2 MB 2.4 MB/s eta 0:00:02\n",
      "     --------------------------------- ------ 18.6/22.2 MB 2.4 MB/s eta 0:00:02\n",
      "     --------------------------------- ------ 18.7/22.2 MB 2.4 MB/s eta 0:00:02\n",
      "     --------------------------------- ------ 18.8/22.2 MB 2.4 MB/s eta 0:00:02\n",
      "     --------------------------------- ------ 18.8/22.2 MB 2.3 MB/s eta 0:00:02\n",
      "     ---------------------------------- ----- 18.9/22.2 MB 2.3 MB/s eta 0:00:02\n",
      "     ---------------------------------- ----- 19.0/22.2 MB 2.3 MB/s eta 0:00:02\n",
      "     ---------------------------------- ----- 19.1/22.2 MB 2.3 MB/s eta 0:00:02\n",
      "     ---------------------------------- ----- 19.2/22.2 MB 2.3 MB/s eta 0:00:02\n",
      "     ---------------------------------- ----- 19.3/22.2 MB 2.3 MB/s eta 0:00:02\n",
      "     ---------------------------------- ----- 19.4/22.2 MB 2.3 MB/s eta 0:00:02\n",
      "     ----------------------------------- ---- 19.5/22.2 MB 2.3 MB/s eta 0:00:02\n",
      "     ----------------------------------- ---- 19.7/22.2 MB 2.3 MB/s eta 0:00:02\n",
      "     ----------------------------------- ---- 19.9/22.2 MB 2.3 MB/s eta 0:00:02\n",
      "     ------------------------------------ --- 20.1/22.2 MB 2.3 MB/s eta 0:00:01\n",
      "     ------------------------------------ --- 20.2/22.2 MB 2.3 MB/s eta 0:00:01\n",
      "     ------------------------------------ --- 20.4/22.2 MB 2.3 MB/s eta 0:00:01\n",
      "     ------------------------------------- -- 20.6/22.2 MB 2.3 MB/s eta 0:00:01\n",
      "     ------------------------------------- -- 20.8/22.2 MB 2.3 MB/s eta 0:00:01\n",
      "     ------------------------------------- -- 21.0/22.2 MB 2.3 MB/s eta 0:00:01\n",
      "     -------------------------------------- - 21.1/22.2 MB 2.3 MB/s eta 0:00:01\n",
      "     -------------------------------------- - 21.3/22.2 MB 2.3 MB/s eta 0:00:01\n",
      "     -------------------------------------- - 21.4/22.2 MB 2.3 MB/s eta 0:00:01\n",
      "     -------------------------------------- - 21.5/22.2 MB 2.2 MB/s eta 0:00:01\n",
      "     -------------------------------------- - 21.7/22.2 MB 2.2 MB/s eta 0:00:01\n",
      "     ---------------------------------------  21.9/22.2 MB 2.2 MB/s eta 0:00:01\n",
      "     ---------------------------------------  22.0/22.2 MB 2.2 MB/s eta 0:00:01\n",
      "     ---------------------------------------  22.2/22.2 MB 2.2 MB/s eta 0:00:01\n",
      "     ---------------------------------------  22.2/22.2 MB 2.2 MB/s eta 0:00:01\n",
      "     ---------------------------------------  22.2/22.2 MB 2.2 MB/s eta 0:00:01\n",
      "     ---------------------------------------  22.2/22.2 MB 2.2 MB/s eta 0:00:01\n",
      "     ---------------------------------------  22.2/22.2 MB 2.2 MB/s eta 0:00:01\n",
      "     ---------------------------------------- 22.2/22.2 MB 2.1 MB/s eta 0:00:00\n",
      "  Installing build dependencies: started\n",
      "  Installing build dependencies: finished with status 'done'\n",
      "  Getting requirements to build wheel: started\n",
      "  Getting requirements to build wheel: finished with status 'done'\n",
      "  Preparing metadata (pyproject.toml): started\n",
      "  Preparing metadata (pyproject.toml): finished with status 'done'\n",
      "Collecting future (from pattern)\n",
      "  Downloading future-1.0.0-py3-none-any.whl.metadata (4.0 kB)\n",
      "Collecting backports.csv (from pattern)\n",
      "  Downloading backports.csv-1.0.7-py2.py3-none-any.whl.metadata (4.0 kB)\n",
      "Collecting mysqlclient (from pattern)\n",
      "  Downloading mysqlclient-2.2.4-cp311-cp311-win_amd64.whl.metadata (4.6 kB)\n",
      "Requirement already satisfied: beautifulsoup4 in c:\\users\\91637\\appdata\\local\\packages\\pythonsoftwarefoundation.python.3.11_qbz5n2kfra8p0\\localcache\\local-packages\\python311\\site-packages (from pattern) (4.12.3)\n",
      "Collecting lxml (from pattern)\n",
      "  Downloading lxml-5.2.2-cp311-cp311-win_amd64.whl.metadata (3.5 kB)\n",
      "Collecting feedparser (from pattern)\n",
      "  Downloading feedparser-6.0.11-py3-none-any.whl.metadata (2.4 kB)\n",
      "Collecting pdfminer.six (from pattern)\n",
      "  Downloading pdfminer.six-20231228-py3-none-any.whl.metadata (4.2 kB)\n",
      "Requirement already satisfied: numpy in c:\\users\\91637\\appdata\\local\\packages\\pythonsoftwarefoundation.python.3.11_qbz5n2kfra8p0\\localcache\\local-packages\\python311\\site-packages (from pattern) (1.26.0)\n",
      "Requirement already satisfied: scipy in c:\\users\\91637\\appdata\\local\\packages\\pythonsoftwarefoundation.python.3.11_qbz5n2kfra8p0\\localcache\\local-packages\\python311\\site-packages (from pattern) (1.13.1)\n",
      "Requirement already satisfied: nltk in c:\\users\\91637\\appdata\\local\\packages\\pythonsoftwarefoundation.python.3.11_qbz5n2kfra8p0\\localcache\\local-packages\\python311\\site-packages (from pattern) (3.8.1)\n",
      "Collecting python-docx (from pattern)\n",
      "  Downloading python_docx-1.1.2-py3-none-any.whl.metadata (2.0 kB)\n",
      "Collecting cherrypy (from pattern)\n",
      "  Downloading CherryPy-18.10.0-py3-none-any.whl.metadata (8.7 kB)\n",
      "Requirement already satisfied: requests in c:\\users\\91637\\appdata\\local\\packages\\pythonsoftwarefoundation.python.3.11_qbz5n2kfra8p0\\localcache\\local-packages\\python311\\site-packages (from pattern) (2.32.2)\n",
      "Requirement already satisfied: soupsieve>1.2 in c:\\users\\91637\\appdata\\local\\packages\\pythonsoftwarefoundation.python.3.11_qbz5n2kfra8p0\\localcache\\local-packages\\python311\\site-packages (from beautifulsoup4->pattern) (2.5)\n",
      "Collecting cheroot>=8.2.1 (from cherrypy->pattern)\n",
      "  Downloading cheroot-10.0.1-py3-none-any.whl.metadata (7.1 kB)\n",
      "Collecting portend>=2.1.1 (from cherrypy->pattern)\n",
      "  Downloading portend-3.2.0-py3-none-any.whl.metadata (3.6 kB)\n",
      "Collecting more-itertools (from cherrypy->pattern)\n",
      "  Downloading more_itertools-10.3.0-py3-none-any.whl.metadata (36 kB)\n",
      "Collecting zc.lockfile (from cherrypy->pattern)\n",
      "  Downloading zc.lockfile-3.0.post1-py3-none-any.whl.metadata (6.2 kB)\n",
      "Collecting jaraco.collections (from cherrypy->pattern)\n",
      "  Downloading jaraco.collections-5.0.1-py3-none-any.whl.metadata (3.8 kB)\n",
      "Collecting sgmllib3k (from feedparser->pattern)\n",
      "  Downloading sgmllib3k-1.0.0.tar.gz (5.8 kB)\n",
      "  Installing build dependencies: started\n",
      "  Installing build dependencies: finished with status 'done'\n",
      "  Getting requirements to build wheel: started\n",
      "  Getting requirements to build wheel: finished with status 'done'\n",
      "  Preparing metadata (pyproject.toml): started\n",
      "  Preparing metadata (pyproject.toml): finished with status 'done'\n",
      "Requirement already satisfied: click in c:\\users\\91637\\appdata\\local\\packages\\pythonsoftwarefoundation.python.3.11_qbz5n2kfra8p0\\localcache\\local-packages\\python311\\site-packages (from nltk->pattern) (8.1.7)\n",
      "Requirement already satisfied: joblib in c:\\users\\91637\\appdata\\local\\packages\\pythonsoftwarefoundation.python.3.11_qbz5n2kfra8p0\\localcache\\local-packages\\python311\\site-packages (from nltk->pattern) (1.4.2)\n",
      "Requirement already satisfied: regex>=2021.8.3 in c:\\users\\91637\\appdata\\local\\packages\\pythonsoftwarefoundation.python.3.11_qbz5n2kfra8p0\\localcache\\local-packages\\python311\\site-packages (from nltk->pattern) (2024.5.15)\n",
      "Requirement already satisfied: tqdm in c:\\users\\91637\\appdata\\local\\packages\\pythonsoftwarefoundation.python.3.11_qbz5n2kfra8p0\\localcache\\local-packages\\python311\\site-packages (from nltk->pattern) (4.66.4)\n",
      "Requirement already satisfied: charset-normalizer>=2.0.0 in c:\\users\\91637\\appdata\\local\\packages\\pythonsoftwarefoundation.python.3.11_qbz5n2kfra8p0\\localcache\\local-packages\\python311\\site-packages (from pdfminer.six->pattern) (3.3.2)\n",
      "Collecting cryptography>=36.0.0 (from pdfminer.six->pattern)\n",
      "  Downloading cryptography-42.0.8-cp39-abi3-win_amd64.whl.metadata (5.4 kB)\n",
      "Requirement already satisfied: typing-extensions>=4.9.0 in c:\\users\\91637\\appdata\\local\\packages\\pythonsoftwarefoundation.python.3.11_qbz5n2kfra8p0\\localcache\\local-packages\\python311\\site-packages (from python-docx->pattern) (4.12.1)\n",
      "Requirement already satisfied: idna<4,>=2.5 in c:\\users\\91637\\appdata\\local\\packages\\pythonsoftwarefoundation.python.3.11_qbz5n2kfra8p0\\localcache\\local-packages\\python311\\site-packages (from requests->pattern) (3.7)\n",
      "Requirement already satisfied: urllib3<3,>=1.21.1 in c:\\users\\91637\\appdata\\local\\packages\\pythonsoftwarefoundation.python.3.11_qbz5n2kfra8p0\\localcache\\local-packages\\python311\\site-packages (from requests->pattern) (2.2.1)\n",
      "Requirement already satisfied: certifi>=2017.4.17 in c:\\users\\91637\\appdata\\local\\packages\\pythonsoftwarefoundation.python.3.11_qbz5n2kfra8p0\\localcache\\local-packages\\python311\\site-packages (from requests->pattern) (2024.2.2)\n",
      "Collecting jaraco.functools (from cheroot>=8.2.1->cherrypy->pattern)\n",
      "  Downloading jaraco.functools-4.0.1-py3-none-any.whl.metadata (2.9 kB)\n",
      "Collecting cffi>=1.12 (from cryptography>=36.0.0->pdfminer.six->pattern)\n",
      "  Downloading cffi-1.16.0-cp311-cp311-win_amd64.whl.metadata (1.5 kB)\n",
      "Collecting tempora>=1.8 (from portend>=2.1.1->cherrypy->pattern)\n",
      "  Downloading tempora-5.6.0-py3-none-any.whl.metadata (3.1 kB)\n",
      "Requirement already satisfied: colorama in c:\\users\\91637\\appdata\\local\\packages\\pythonsoftwarefoundation.python.3.11_qbz5n2kfra8p0\\localcache\\local-packages\\python311\\site-packages (from click->nltk->pattern) (0.4.6)\n",
      "Collecting jaraco.text (from jaraco.collections->cherrypy->pattern)\n",
      "  Downloading jaraco.text-3.12.1-py3-none-any.whl.metadata (3.7 kB)\n",
      "Requirement already satisfied: setuptools in c:\\program files\\windowsapps\\pythonsoftwarefoundation.python.3.11_3.11.2544.0_x64__qbz5n2kfra8p0\\lib\\site-packages (from zc.lockfile->cherrypy->pattern) (65.5.0)\n",
      "Collecting pycparser (from cffi>=1.12->cryptography>=36.0.0->pdfminer.six->pattern)\n",
      "  Downloading pycparser-2.22-py3-none-any.whl.metadata (943 bytes)\n",
      "Collecting jaraco.context>=4.1 (from jaraco.text->jaraco.collections->cherrypy->pattern)\n",
      "  Downloading jaraco.context-5.3.0-py3-none-any.whl.metadata (4.0 kB)\n",
      "Collecting autocommand (from jaraco.text->jaraco.collections->cherrypy->pattern)\n",
      "  Downloading autocommand-2.2.2-py3-none-any.whl.metadata (15 kB)\n",
      "Collecting inflect (from jaraco.text->jaraco.collections->cherrypy->pattern)\n",
      "  Downloading inflect-7.3.0-py3-none-any.whl.metadata (21 kB)\n",
      "Collecting backports.tarfile (from jaraco.context>=4.1->jaraco.text->jaraco.collections->cherrypy->pattern)\n",
      "  Downloading backports.tarfile-1.2.0-py3-none-any.whl.metadata (2.0 kB)\n",
      "Collecting typeguard>=4.0.1 (from inflect->jaraco.text->jaraco.collections->cherrypy->pattern)\n",
      "  Downloading typeguard-4.3.0-py3-none-any.whl.metadata (3.7 kB)\n",
      "Downloading backports.csv-1.0.7-py2.py3-none-any.whl (12 kB)\n",
      "Downloading CherryPy-18.10.0-py3-none-any.whl (349 kB)\n",
      "   ---------------------------------------- 0.0/349.8 kB ? eta -:--:--\n",
      "   ---------------------------------------- 0.0/349.8 kB ? eta -:--:--\n",
      "   ---------------------------------------- 0.0/349.8 kB ? eta -:--:--\n",
      "   ----------- ---------------------------- 102.4/349.8 kB ? eta -:--:--\n",
      "   --------------- ------------------------ 133.1/349.8 kB 7.7 MB/s eta 0:00:01\n",
      "   ------------------ --------------------- 163.8/349.8 kB 1.6 MB/s eta 0:00:01\n",
      "   --------------------- ------------------ 184.3/349.8 kB 1.2 MB/s eta 0:00:01\n",
      "   ------------------------- -------------- 225.3/349.8 kB 1.4 MB/s eta 0:00:01\n",
      "   ------------------------------ --------- 266.2/349.8 kB 1.2 MB/s eta 0:00:01\n",
      "   ----------------------------------- ---- 307.2/349.8 kB 1.1 MB/s eta 0:00:01\n",
      "   ----------------------------------- -- 327.7/349.8 kB 964.9 kB/s eta 0:00:01\n",
      "   -------------------------------------  348.2/349.8 kB 901.1 kB/s eta 0:00:01\n",
      "   -------------------------------------- 349.8/349.8 kB 868.5 kB/s eta 0:00:00\n",
      "Downloading feedparser-6.0.11-py3-none-any.whl (81 kB)\n",
      "   ---------------------------------------- 0.0/81.3 kB ? eta -:--:--\n",
      "   ---------------------------------------- 0.0/81.3 kB ? eta -:--:--\n",
      "   ------------------------------ --------- 61.4/81.3 kB ? eta -:--:--\n",
      "   ---------------------------------------- 81.3/81.3 kB 2.3 MB/s eta 0:00:00\n",
      "Downloading future-1.0.0-py3-none-any.whl (491 kB)\n",
      "   ---------------------------------------- 0.0/491.3 kB ? eta -:--:--\n",
      "   ------- -------------------------------- 92.2/491.3 kB 2.6 MB/s eta 0:00:01\n",
      "   ------------ --------------------------- 153.6/491.3 kB 2.3 MB/s eta 0:00:01\n",
      "   ---------------- ----------------------- 204.8/491.3 kB 1.6 MB/s eta 0:00:01\n",
      "   ---------------- ----------------------- 204.8/491.3 kB 1.6 MB/s eta 0:00:01\n",
      "   ---------------- ----------------------- 204.8/491.3 kB 1.6 MB/s eta 0:00:01\n",
      "   ---------------- ----------------------- 204.8/491.3 kB 1.6 MB/s eta 0:00:01\n",
      "   ---------------- ----------------------- 204.8/491.3 kB 1.6 MB/s eta 0:00:01\n",
      "   ---------------- ----------------------- 204.8/491.3 kB 1.6 MB/s eta 0:00:01\n",
      "   ---------------- ----------------------- 204.8/491.3 kB 1.6 MB/s eta 0:00:01\n",
      "   ---------------- ----------------------- 204.8/491.3 kB 1.6 MB/s eta 0:00:01\n",
      "   ---------------- ----------------------- 204.8/491.3 kB 1.6 MB/s eta 0:00:01\n",
      "   ------------------ ------------------- 235.5/491.3 kB 436.6 kB/s eta 0:00:01\n",
      "   ------------------ ------------------- 235.5/491.3 kB 436.6 kB/s eta 0:00:01\n",
      "   ------------------- ------------------ 256.0/491.3 kB 393.2 kB/s eta 0:00:01\n",
      "   ------------------- ------------------ 256.0/491.3 kB 393.2 kB/s eta 0:00:01\n",
      "   ------------------- ------------------ 256.0/491.3 kB 393.2 kB/s eta 0:00:01\n",
      "   ------------------- ------------------ 256.0/491.3 kB 393.2 kB/s eta 0:00:01\n",
      "   ------------------- ------------------ 256.0/491.3 kB 393.2 kB/s eta 0:00:01\n",
      "   --------------------- ---------------- 276.5/491.3 kB 309.6 kB/s eta 0:00:01\n",
      "   --------------------- ---------------- 276.5/491.3 kB 309.6 kB/s eta 0:00:01\n",
      "   --------------------- ---------------- 276.5/491.3 kB 309.6 kB/s eta 0:00:01\n",
      "   --------------------- ---------------- 276.5/491.3 kB 309.6 kB/s eta 0:00:01\n",
      "   --------------------- ---------------- 276.5/491.3 kB 309.6 kB/s eta 0:00:01\n",
      "   ---------------------- --------------- 286.7/491.3 kB 256.5 kB/s eta 0:00:01\n",
      "   ----------------------- -------------- 307.2/491.3 kB 260.3 kB/s eta 0:00:01\n",
      "   ------------------------ ------------- 317.4/491.3 kB 265.7 kB/s eta 0:00:01\n",
      "   ------------------------ ------------- 317.4/491.3 kB 265.7 kB/s eta 0:00:01\n",
      "   ------------------------ ------------- 317.4/491.3 kB 265.7 kB/s eta 0:00:01\n",
      "   ------------------------ ------------- 317.4/491.3 kB 265.7 kB/s eta 0:00:01\n",
      "   ------------------------ ------------- 317.4/491.3 kB 265.7 kB/s eta 0:00:01\n",
      "   ------------------------ ------------- 317.4/491.3 kB 265.7 kB/s eta 0:00:01\n",
      "   ------------------------ ------------- 317.4/491.3 kB 265.7 kB/s eta 0:00:01\n",
      "   ------------------------ ------------- 317.4/491.3 kB 265.7 kB/s eta 0:00:01\n",
      "   ------------------------ ------------- 317.4/491.3 kB 265.7 kB/s eta 0:00:01\n",
      "   ------------------------ ------------- 317.4/491.3 kB 265.7 kB/s eta 0:00:01\n",
      "   ------------------------ ------------- 317.4/491.3 kB 265.7 kB/s eta 0:00:01\n",
      "   -------------------------- ----------- 337.9/491.3 kB 192.4 kB/s eta 0:00:01\n",
      "   --------------------------- ---------- 358.4/491.3 kB 200.7 kB/s eta 0:00:01\n",
      "   --------------------------- ---------- 358.4/491.3 kB 200.7 kB/s eta 0:00:01\n",
      "   --------------------------- ---------- 358.4/491.3 kB 200.7 kB/s eta 0:00:01\n",
      "   --------------------------- ---------- 358.4/491.3 kB 200.7 kB/s eta 0:00:01\n",
      "   --------------------------- ---------- 358.4/491.3 kB 200.7 kB/s eta 0:00:01\n",
      "   ---------------------------- --------- 368.6/491.3 kB 184.9 kB/s eta 0:00:01\n",
      "   ------------------------------ ------- 389.1/491.3 kB 189.4 kB/s eta 0:00:01\n",
      "   ------------------------------- ------ 409.6/491.3 kB 193.6 kB/s eta 0:00:01\n",
      "   ---------------------------------- --- 440.3/491.3 kB 203.8 kB/s eta 0:00:01\n",
      "   -------------------------------------- 491.3/491.3 kB 223.1 kB/s eta 0:00:00\n",
      "Downloading lxml-5.2.2-cp311-cp311-win_amd64.whl (3.8 MB)\n",
      "   ---------------------------------------- 0.0/3.8 MB ? eta -:--:--\n",
      "    --------------------------------------- 0.1/3.8 MB 2.6 MB/s eta 0:00:02\n",
      "   -- ------------------------------------- 0.2/3.8 MB 2.4 MB/s eta 0:00:02\n",
      "   --- ------------------------------------ 0.3/3.8 MB 2.4 MB/s eta 0:00:02\n",
      "   --- ------------------------------------ 0.3/3.8 MB 2.4 MB/s eta 0:00:02\n",
      "   --- ------------------------------------ 0.3/3.8 MB 2.4 MB/s eta 0:00:02\n",
      "   --- ------------------------------------ 0.4/3.8 MB 1.3 MB/s eta 0:00:03\n",
      "   ---- ----------------------------------- 0.5/3.8 MB 1.4 MB/s eta 0:00:03\n",
      "   ------ --------------------------------- 0.6/3.8 MB 1.6 MB/s eta 0:00:03\n",
      "   ------- -------------------------------- 0.7/3.8 MB 1.7 MB/s eta 0:00:02\n",
      "   ------- -------------------------------- 0.7/3.8 MB 1.7 MB/s eta 0:00:02\n",
      "   ------- -------------------------------- 0.7/3.8 MB 1.7 MB/s eta 0:00:02\n",
      "   -------- ------------------------------- 0.8/3.8 MB 1.5 MB/s eta 0:00:03\n",
      "   --------- ------------------------------ 0.9/3.8 MB 1.6 MB/s eta 0:00:02\n",
      "   ---------- ----------------------------- 1.0/3.8 MB 1.6 MB/s eta 0:00:02\n",
      "   ---------- ----------------------------- 1.0/3.8 MB 1.6 MB/s eta 0:00:02\n",
      "   ---------- ----------------------------- 1.0/3.8 MB 1.6 MB/s eta 0:00:02\n",
      "   ----------- ---------------------------- 1.1/3.8 MB 1.4 MB/s eta 0:00:02\n",
      "   ------------ --------------------------- 1.2/3.8 MB 1.5 MB/s eta 0:00:02\n",
      "   -------------- ------------------------- 1.4/3.8 MB 1.5 MB/s eta 0:00:02\n",
      "   --------------- ------------------------ 1.5/3.8 MB 1.7 MB/s eta 0:00:02\n",
      "   --------------- ------------------------ 1.5/3.8 MB 1.7 MB/s eta 0:00:02\n",
      "   --------------- ------------------------ 1.5/3.8 MB 1.7 MB/s eta 0:00:02\n",
      "   ----------------- ---------------------- 1.6/3.8 MB 1.5 MB/s eta 0:00:02\n",
      "   ------------------ --------------------- 1.7/3.8 MB 1.6 MB/s eta 0:00:02\n",
      "   ------------------- -------------------- 1.9/3.8 MB 1.6 MB/s eta 0:00:02\n",
      "   -------------------- ------------------- 1.9/3.8 MB 1.6 MB/s eta 0:00:02\n",
      "   -------------------- ------------------- 1.9/3.8 MB 1.6 MB/s eta 0:00:02\n",
      "   -------------------- ------------------- 1.9/3.8 MB 1.6 MB/s eta 0:00:02\n",
      "   --------------------- ------------------ 2.0/3.8 MB 1.5 MB/s eta 0:00:02\n",
      "   ---------------------- ----------------- 2.2/3.8 MB 1.6 MB/s eta 0:00:02\n",
      "   ------------------------ --------------- 2.3/3.8 MB 1.6 MB/s eta 0:00:01\n",
      "   -------------------------- ------------- 2.5/3.8 MB 1.7 MB/s eta 0:00:01\n",
      "   --------------------------- ------------ 2.6/3.8 MB 1.7 MB/s eta 0:00:01\n",
      "   --------------------------- ------------ 2.6/3.8 MB 1.7 MB/s eta 0:00:01\n",
      "   --------------------------- ------------ 2.7/3.8 MB 1.6 MB/s eta 0:00:01\n",
      "   ----------------------------- ---------- 2.8/3.8 MB 1.7 MB/s eta 0:00:01\n",
      "   ------------------------------ --------- 2.9/3.8 MB 1.7 MB/s eta 0:00:01\n",
      "   ------------------------------ --------- 2.9/3.8 MB 1.7 MB/s eta 0:00:01\n",
      "   ------------------------------ --------- 2.9/3.8 MB 1.7 MB/s eta 0:00:01\n",
      "   ------------------------------- -------- 3.0/3.8 MB 1.6 MB/s eta 0:00:01\n",
      "   -------------------------------- ------- 3.1/3.8 MB 1.6 MB/s eta 0:00:01\n",
      "   --------------------------------- ------ 3.2/3.8 MB 1.7 MB/s eta 0:00:01\n",
      "   ---------------------------------- ----- 3.3/3.8 MB 1.7 MB/s eta 0:00:01\n",
      "   ------------------------------------ --- 3.5/3.8 MB 1.7 MB/s eta 0:00:01\n",
      "   -------------------------------------- - 3.6/3.8 MB 1.8 MB/s eta 0:00:01\n",
      "   -------------------------------------- - 3.6/3.8 MB 1.8 MB/s eta 0:00:01\n",
      "   -------------------------------------- - 3.6/3.8 MB 1.8 MB/s eta 0:00:01\n",
      "   ---------------------------------------  3.7/3.8 MB 1.7 MB/s eta 0:00:01\n",
      "   ---------------------------------------  3.8/3.8 MB 1.7 MB/s eta 0:00:01\n",
      "   ---------------------------------------- 3.8/3.8 MB 1.7 MB/s eta 0:00:00\n",
      "Downloading mysqlclient-2.2.4-cp311-cp311-win_amd64.whl (203 kB)\n",
      "   ---------------------------------------- 0.0/203.2 kB ? eta -:--:--\n",
      "   ------------------------ --------------- 122.9/203.2 kB 7.0 MB/s eta 0:00:01\n",
      "   ------------------------ --------------- 122.9/203.2 kB 7.0 MB/s eta 0:00:01\n",
      "   ------------------------ --------------- 122.9/203.2 kB 7.0 MB/s eta 0:00:01\n",
      "   -------------------------------------- - 194.6/203.2 kB 1.2 MB/s eta 0:00:01\n",
      "   ---------------------------------------- 203.2/203.2 kB 1.0 MB/s eta 0:00:00\n",
      "Downloading pdfminer.six-20231228-py3-none-any.whl (5.6 MB)\n",
      "   ---------------------------------------- 0.0/5.6 MB ? eta -:--:--\n",
      "    --------------------------------------- 0.1/5.6 MB 2.4 MB/s eta 0:00:03\n",
      "   - -------------------------------------- 0.1/5.6 MB 2.8 MB/s eta 0:00:02\n",
      "   - -------------------------------------- 0.1/5.6 MB 2.8 MB/s eta 0:00:02\n",
      "   - -------------------------------------- 0.2/5.6 MB 952.6 kB/s eta 0:00:06\n",
      "   - -------------------------------------- 0.3/5.6 MB 1.1 MB/s eta 0:00:05\n",
      "   -- ------------------------------------- 0.4/5.6 MB 1.3 MB/s eta 0:00:05\n",
      "   --- ------------------------------------ 0.5/5.6 MB 1.6 MB/s eta 0:00:04\n",
      "   ---- ----------------------------------- 0.7/5.6 MB 1.8 MB/s eta 0:00:03\n",
      "   ---- ----------------------------------- 0.7/5.6 MB 1.8 MB/s eta 0:00:03\n",
      "   ---- ----------------------------------- 0.7/5.6 MB 1.8 MB/s eta 0:00:03\n",
      "   ----- ---------------------------------- 0.7/5.6 MB 1.4 MB/s eta 0:00:04\n",
      "   ------ --------------------------------- 0.8/5.6 MB 1.5 MB/s eta 0:00:04\n",
      "   ------- -------------------------------- 1.0/5.6 MB 1.6 MB/s eta 0:00:03\n",
      "   -------- ------------------------------- 1.1/5.6 MB 1.8 MB/s eta 0:00:03\n",
      "   -------- ------------------------------- 1.2/5.6 MB 1.8 MB/s eta 0:00:03\n",
      "   -------- ------------------------------- 1.2/5.6 MB 1.8 MB/s eta 0:00:03\n",
      "   -------- ------------------------------- 1.3/5.6 MB 1.6 MB/s eta 0:00:03\n",
      "   --------- ------------------------------ 1.4/5.6 MB 1.6 MB/s eta 0:00:03\n",
      "   ---------- ----------------------------- 1.5/5.6 MB 1.7 MB/s eta 0:00:03\n",
      "   ----------- ---------------------------- 1.7/5.6 MB 1.8 MB/s eta 0:00:03\n",
      "   ------------ --------------------------- 1.8/5.6 MB 1.9 MB/s eta 0:00:03\n",
      "   ------------ --------------------------- 1.8/5.6 MB 1.9 MB/s eta 0:00:03\n",
      "   ------------ --------------------------- 1.8/5.6 MB 1.7 MB/s eta 0:00:03\n",
      "   ------------- -------------------------- 1.9/5.6 MB 1.7 MB/s eta 0:00:03\n",
      "   -------------- ------------------------- 2.0/5.6 MB 1.8 MB/s eta 0:00:03\n",
      "   --------------- ------------------------ 2.2/5.6 MB 1.8 MB/s eta 0:00:02\n",
      "   ---------------- ----------------------- 2.3/5.6 MB 1.8 MB/s eta 0:00:02\n",
      "   ---------------- ----------------------- 2.4/5.6 MB 1.8 MB/s eta 0:00:02\n",
      "   ----------------- ---------------------- 2.5/5.6 MB 1.8 MB/s eta 0:00:02\n",
      "   ----------------- ---------------------- 2.5/5.6 MB 1.8 MB/s eta 0:00:02\n",
      "   ----------------- ---------------------- 2.5/5.6 MB 1.8 MB/s eta 0:00:02\n",
      "   ------------------ --------------------- 2.6/5.6 MB 1.7 MB/s eta 0:00:02\n",
      "   ------------------- -------------------- 2.7/5.6 MB 1.8 MB/s eta 0:00:02\n",
      "   ------------------- -------------------- 2.8/5.6 MB 1.8 MB/s eta 0:00:02\n",
      "   ------------------- -------------------- 2.8/5.6 MB 1.8 MB/s eta 0:00:02\n",
      "   -------------------- ------------------- 2.8/5.6 MB 1.7 MB/s eta 0:00:02\n",
      "   -------------------- ------------------- 2.9/5.6 MB 1.7 MB/s eta 0:00:02\n",
      "   --------------------- ------------------ 3.0/5.6 MB 1.7 MB/s eta 0:00:02\n",
      "   ---------------------- ----------------- 3.2/5.6 MB 1.7 MB/s eta 0:00:02\n",
      "   ---------------------- ----------------- 3.2/5.6 MB 1.7 MB/s eta 0:00:02\n",
      "   ---------------------- ----------------- 3.2/5.6 MB 1.7 MB/s eta 0:00:02\n",
      "   ---------------------- ----------------- 3.2/5.6 MB 1.7 MB/s eta 0:00:02\n",
      "   ---------------------- ----------------- 3.2/5.6 MB 1.7 MB/s eta 0:00:02\n",
      "   ---------------------- ----------------- 3.2/5.6 MB 1.6 MB/s eta 0:00:02\n",
      "   ----------------------- ---------------- 3.3/5.6 MB 1.6 MB/s eta 0:00:02\n",
      "   ------------------------ --------------- 3.4/5.6 MB 1.6 MB/s eta 0:00:02\n",
      "   ------------------------ --------------- 3.5/5.6 MB 1.6 MB/s eta 0:00:02\n",
      "   -------------------------- ------------- 3.7/5.6 MB 1.6 MB/s eta 0:00:02\n",
      "   --------------------------- ------------ 3.9/5.6 MB 1.7 MB/s eta 0:00:02\n",
      "   ---------------------------- ----------- 4.0/5.6 MB 1.7 MB/s eta 0:00:01\n",
      "   ---------------------------- ----------- 4.0/5.6 MB 1.7 MB/s eta 0:00:01\n",
      "   ---------------------------- ----------- 4.0/5.6 MB 1.7 MB/s eta 0:00:01\n",
      "   ----------------------------- ---------- 4.1/5.6 MB 1.7 MB/s eta 0:00:01\n",
      "   ------------------------------ --------- 4.3/5.6 MB 1.7 MB/s eta 0:00:01\n",
      "   ------------------------------- -------- 4.5/5.6 MB 1.8 MB/s eta 0:00:01\n",
      "   -------------------------------- ------- 4.6/5.6 MB 1.8 MB/s eta 0:00:01\n",
      "   -------------------------------- ------- 4.6/5.6 MB 1.8 MB/s eta 0:00:01\n",
      "   -------------------------------- ------- 4.6/5.6 MB 1.7 MB/s eta 0:00:01\n",
      "   --------------------------------- ------ 4.7/5.6 MB 1.7 MB/s eta 0:00:01\n",
      "   --------------------------------- ------ 4.8/5.6 MB 1.7 MB/s eta 0:00:01\n",
      "   --------------------------------- ------ 4.8/5.6 MB 1.7 MB/s eta 0:00:01\n",
      "   ---------------------------------- ----- 4.8/5.6 MB 1.7 MB/s eta 0:00:01\n",
      "   ---------------------------------- ----- 4.9/5.6 MB 1.7 MB/s eta 0:00:01\n",
      "   ----------------------------------- ---- 5.0/5.6 MB 1.7 MB/s eta 0:00:01\n",
      "   ------------------------------------ --- 5.1/5.6 MB 1.7 MB/s eta 0:00:01\n",
      "   ------------------------------------ --- 5.1/5.6 MB 1.7 MB/s eta 0:00:01\n",
      "   ------------------------------------ --- 5.1/5.6 MB 1.6 MB/s eta 0:00:01\n",
      "   ------------------------------------ --- 5.2/5.6 MB 1.6 MB/s eta 0:00:01\n",
      "   ------------------------------------- -- 5.3/5.6 MB 1.6 MB/s eta 0:00:01\n",
      "   -------------------------------------- - 5.4/5.6 MB 1.7 MB/s eta 0:00:01\n",
      "   ---------------------------------------  5.6/5.6 MB 1.7 MB/s eta 0:00:01\n",
      "   ---------------------------------------  5.6/5.6 MB 1.7 MB/s eta 0:00:01\n",
      "   ---------------------------------------  5.6/5.6 MB 1.7 MB/s eta 0:00:01\n",
      "   ---------------------------------------  5.6/5.6 MB 1.6 MB/s eta 0:00:01\n",
      "   ---------------------------------------  5.6/5.6 MB 1.6 MB/s eta 0:00:01\n",
      "   ---------------------------------------- 5.6/5.6 MB 1.6 MB/s eta 0:00:00\n",
      "Downloading python_docx-1.1.2-py3-none-any.whl (244 kB)\n",
      "   ---------------------------------------- 0.0/244.3 kB ? eta -:--:--\n",
      "   ------ --------------------------------- 41.0/244.3 kB 1.9 MB/s eta 0:00:01\n",
      "   ---------------------------- ----------- 174.1/244.3 kB 2.6 MB/s eta 0:00:01\n",
      "   ---------------------------------------- 244.3/244.3 kB 2.1 MB/s eta 0:00:00\n",
      "Downloading cheroot-10.0.1-py3-none-any.whl (104 kB)\n",
      "   ---------------------------------------- 0.0/104.8 kB ? eta -:--:--\n",
      "   ---------------------------------------  102.4/104.8 kB 3.0 MB/s eta 0:00:01\n",
      "   ---------------------------------------- 104.8/104.8 kB 2.0 MB/s eta 0:00:00\n",
      "Downloading cryptography-42.0.8-cp39-abi3-win_amd64.whl (2.9 MB)\n",
      "   ---------------------------------------- 0.0/2.9 MB ? eta -:--:--\n",
      "   -- ------------------------------------- 0.2/2.9 MB 5.0 MB/s eta 0:00:01\n",
      "   ---- ----------------------------------- 0.4/2.9 MB 4.5 MB/s eta 0:00:01\n",
      "   -------- ------------------------------- 0.6/2.9 MB 4.6 MB/s eta 0:00:01\n",
      "   ----------- ---------------------------- 0.8/2.9 MB 4.8 MB/s eta 0:00:01\n",
      "   --------------- ------------------------ 1.1/2.9 MB 5.0 MB/s eta 0:00:01\n",
      "   ------------------- -------------------- 1.4/2.9 MB 5.1 MB/s eta 0:00:01\n",
      "   ---------------------- ----------------- 1.6/2.9 MB 5.1 MB/s eta 0:00:01\n",
      "   ------------------------ --------------- 1.8/2.9 MB 4.9 MB/s eta 0:00:01\n",
      "   --------------------------- ------------ 2.0/2.9 MB 4.8 MB/s eta 0:00:01\n",
      "   ---------------------------- ----------- 2.0/2.9 MB 4.8 MB/s eta 0:00:01\n",
      "   ---------------------------- ----------- 2.0/2.9 MB 4.8 MB/s eta 0:00:01\n",
      "   ----------------------------- ---------- 2.1/2.9 MB 4.0 MB/s eta 0:00:01\n",
      "   ------------------------------- -------- 2.3/2.9 MB 3.9 MB/s eta 0:00:01\n",
      "   ----------------------------------- ---- 2.6/2.9 MB 4.0 MB/s eta 0:00:01\n",
      "   ------------------------------------- -- 2.7/2.9 MB 4.1 MB/s eta 0:00:01\n",
      "   ------------------------------------- -- 2.7/2.9 MB 4.1 MB/s eta 0:00:01\n",
      "   ------------------------------------- -- 2.7/2.9 MB 4.1 MB/s eta 0:00:01\n",
      "   ---------------------------------------  2.9/2.9 MB 3.5 MB/s eta 0:00:01\n",
      "   ---------------------------------------- 2.9/2.9 MB 3.3 MB/s eta 0:00:00\n",
      "Downloading more_itertools-10.3.0-py3-none-any.whl (59 kB)\n",
      "   ---------------------------------------- 0.0/59.2 kB ? eta -:--:--\n",
      "   ---------------------------------------- 59.2/59.2 kB 1.5 MB/s eta 0:00:00\n",
      "Downloading portend-3.2.0-py3-none-any.whl (5.3 kB)\n",
      "Downloading jaraco.collections-5.0.1-py3-none-any.whl (10 kB)\n",
      "Downloading zc.lockfile-3.0.post1-py3-none-any.whl (9.8 kB)\n",
      "Downloading cffi-1.16.0-cp311-cp311-win_amd64.whl (181 kB)\n",
      "   ---------------------------------------- 0.0/181.5 kB ? eta -:--:--\n",
      "   ------------------ --------------------- 81.9/181.5 kB 4.8 MB/s eta 0:00:01\n",
      "   ------------------ --------------------- 81.9/181.5 kB 4.8 MB/s eta 0:00:01\n",
      "   ------------------------- ------------ 122.9/181.5 kB 804.6 kB/s eta 0:00:01\n",
      "   -------------------------------------- 181.5/181.5 kB 915.8 kB/s eta 0:00:00\n",
      "Downloading tempora-5.6.0-py3-none-any.whl (13 kB)\n",
      "Downloading jaraco.functools-4.0.1-py3-none-any.whl (9.8 kB)\n",
      "Downloading jaraco.text-3.12.1-py3-none-any.whl (11 kB)\n",
      "Downloading jaraco.context-5.3.0-py3-none-any.whl (6.5 kB)\n",
      "Downloading autocommand-2.2.2-py3-none-any.whl (19 kB)\n",
      "Downloading inflect-7.3.0-py3-none-any.whl (34 kB)\n",
      "Downloading pycparser-2.22-py3-none-any.whl (117 kB)\n",
      "   ---------------------------------------- 0.0/117.6 kB ? eta -:--:--\n",
      "   --------------------------- ------------ 81.9/117.6 kB 2.3 MB/s eta 0:00:01\n",
      "   ---------------------------------------- 117.6/117.6 kB 1.7 MB/s eta 0:00:00\n",
      "Downloading typeguard-4.3.0-py3-none-any.whl (35 kB)\n",
      "Downloading backports.tarfile-1.2.0-py3-none-any.whl (30 kB)\n",
      "Building wheels for collected packages: pattern, sgmllib3k\n",
      "  Building wheel for pattern (pyproject.toml): started\n",
      "  Building wheel for pattern (pyproject.toml): finished with status 'done'\n",
      "  Created wheel for pattern: filename=Pattern-3.6-py3-none-any.whl size=22332713 sha256=dc5d46a0b0941542ec913676cf7de27f5a7326a8d28f08f84a43bf143e44e9a1\n",
      "  Stored in directory: c:\\users\\91637\\appdata\\local\\pip\\cache\\wheels\\d0\\8d\\e1\\44b5ab952791ca07e66a780d11dbf141c49d151f0be21e811b\n",
      "  Building wheel for sgmllib3k (pyproject.toml): started\n",
      "  Building wheel for sgmllib3k (pyproject.toml): finished with status 'done'\n",
      "  Created wheel for sgmllib3k: filename=sgmllib3k-1.0.0-py3-none-any.whl size=6060 sha256=82c24c5cf1d9fb68c0c3cd96e51d2c204cc4b84867651098cbc3b25fcef9d965\n",
      "  Stored in directory: c:\\users\\91637\\appdata\\local\\pip\\cache\\wheels\\3b\\25\\2a\\105d6a15df6914f4d15047691c6c28f9052cc1173e40285d03\n",
      "Successfully built pattern sgmllib3k\n",
      "Installing collected packages: sgmllib3k, backports.csv, zc.lockfile, typeguard, pycparser, mysqlclient, more-itertools, lxml, future, feedparser, backports.tarfile, autocommand, python-docx, jaraco.functools, jaraco.context, inflect, cffi, tempora, jaraco.text, cryptography, cheroot, portend, pdfminer.six, jaraco.collections, cherrypy, pattern\n",
      "Successfully installed autocommand-2.2.2 backports.csv-1.0.7 backports.tarfile-1.2.0 cffi-1.16.0 cheroot-10.0.1 cherrypy-18.10.0 cryptography-42.0.8 feedparser-6.0.11 future-1.0.0 inflect-7.3.0 jaraco.collections-5.0.1 jaraco.context-5.3.0 jaraco.functools-4.0.1 jaraco.text-3.12.1 lxml-5.2.2 more-itertools-10.3.0 mysqlclient-2.2.4 pattern-3.6 pdfminer.six-20231228 portend-3.2.0 pycparser-2.22 python-docx-1.1.2 sgmllib3k-1.0.0 tempora-5.6.0 typeguard-4.3.0 zc.lockfile-3.0.post1\n",
      "Note: you may need to restart the kernel to use updated packages.\n"
     ]
    },
    {
     "name": "stderr",
     "output_type": "stream",
     "text": [
      "\n",
      "[notice] A new release of pip is available: 24.0 -> 24.1\n",
      "[notice] To update, run: C:\\Users\\91637\\AppData\\Local\\Microsoft\\WindowsApps\\PythonSoftwareFoundation.Python.3.11_qbz5n2kfra8p0\\python.exe -m pip install --upgrade pip\n"
     ]
    }
   ],
   "source": [
    "pip install pattern"
   ]
  },
  {
   "cell_type": "code",
   "execution_count": 65,
   "metadata": {},
   "outputs": [
    {
     "name": "stdout",
     "output_type": "stream",
     "text": [
      "the bat see the cat with best stripe hang upside down by their feet\n"
     ]
    }
   ],
   "source": [
    "# PATTERN LEMMATIZER\n",
    "import pattern\n",
    "from pattern.en import lemma, lexeme\n",
    "from pattern.en import parse\n",
    "sentence = \"the bats saw the cats with best stripes hanging upside down by their feet\"\n",
    "lemmatized_sentence = \" \".join([lemma(word) for word in sentence.split()])\n",
    "\n",
    "print(lemmatized_sentence)\n",
    "\n"
   ]
  },
  {
   "cell_type": "markdown",
   "metadata": {},
   "source": [
    "(vi)Gensim"
   ]
  },
  {
   "cell_type": "markdown",
   "metadata": {},
   "source": [
    "Gensim is a Python library for topic modeling, document indexing, and similarity retrieval with large corpora. It is designed to process large-scale text collections efficiently."
   ]
  },
  {
   "cell_type": "code",
   "execution_count": 50,
   "metadata": {},
   "outputs": [
    {
     "name": "stdout",
     "output_type": "stream",
     "text": [
      "Note: you may need to restart the kernel to use updated packages.\n"
     ]
    },
    {
     "name": "stderr",
     "output_type": "stream",
     "text": [
      "\n",
      "[notice] A new release of pip is available: 24.0 -> 24.1\n",
      "[notice] To update, run: C:\\Users\\91637\\AppData\\Local\\Microsoft\\WindowsApps\\PythonSoftwareFoundation.Python.3.11_qbz5n2kfra8p0\\python.exe -m pip install --upgrade pip\n"
     ]
    },
    {
     "name": "stdout",
     "output_type": "stream",
     "text": [
      "Collecting gensim\n",
      "  Downloading gensim-4.3.2-cp311-cp311-win_amd64.whl.metadata (8.5 kB)\n",
      "Requirement already satisfied: numpy>=1.18.5 in c:\\users\\91637\\appdata\\local\\packages\\pythonsoftwarefoundation.python.3.11_qbz5n2kfra8p0\\localcache\\local-packages\\python311\\site-packages (from gensim) (1.26.0)\n",
      "Requirement already satisfied: scipy>=1.7.0 in c:\\users\\91637\\appdata\\local\\packages\\pythonsoftwarefoundation.python.3.11_qbz5n2kfra8p0\\localcache\\local-packages\\python311\\site-packages (from gensim) (1.13.1)\n",
      "Requirement already satisfied: smart-open>=1.8.1 in c:\\users\\91637\\appdata\\local\\packages\\pythonsoftwarefoundation.python.3.11_qbz5n2kfra8p0\\localcache\\local-packages\\python311\\site-packages (from gensim) (7.0.4)\n",
      "Requirement already satisfied: wrapt in c:\\users\\91637\\appdata\\local\\packages\\pythonsoftwarefoundation.python.3.11_qbz5n2kfra8p0\\localcache\\local-packages\\python311\\site-packages (from smart-open>=1.8.1->gensim) (1.16.0)\n",
      "Downloading gensim-4.3.2-cp311-cp311-win_amd64.whl (24.0 MB)\n",
      "   ---------------------------------------- 0.0/24.0 MB ? eta -:--:--\n",
      "   ---------------------------------------- 0.0/24.0 MB ? eta -:--:--\n",
      "   ---------------------------------------- 0.0/24.0 MB ? eta -:--:--\n",
      "   ---------------------------------------- 0.0/24.0 MB ? eta -:--:--\n",
      "   ---------------------------------------- 0.0/24.0 MB ? eta -:--:--\n",
      "   ---------------------------------------- 0.0/24.0 MB ? eta -:--:--\n",
      "   ---------------------------------------- 0.0/24.0 MB 217.9 kB/s eta 0:01:51\n",
      "   ---------------------------------------- 0.0/24.0 MB 217.9 kB/s eta 0:01:51\n",
      "   ---------------------------------------- 0.1/24.0 MB 454.0 kB/s eta 0:00:53\n",
      "   ---------------------------------------- 0.2/24.0 MB 697.2 kB/s eta 0:00:35\n",
      "   ---------------------------------------- 0.2/24.0 MB 697.2 kB/s eta 0:00:35\n",
      "   ---------------------------------------- 0.2/24.0 MB 565.6 kB/s eta 0:00:43\n",
      "   ---------------------------------------- 0.3/24.0 MB 733.3 kB/s eta 0:00:33\n",
      "    --------------------------------------- 0.4/24.0 MB 935.2 kB/s eta 0:00:26\n",
      "    --------------------------------------- 0.5/24.0 MB 1.1 MB/s eta 0:00:22\n",
      "   - -------------------------------------- 0.7/24.0 MB 1.3 MB/s eta 0:00:19\n",
      "   - -------------------------------------- 0.9/24.0 MB 1.5 MB/s eta 0:00:16\n",
      "   - -------------------------------------- 1.1/24.0 MB 1.7 MB/s eta 0:00:14\n",
      "   - -------------------------------------- 1.2/24.0 MB 1.8 MB/s eta 0:00:13\n",
      "   - -------------------------------------- 1.2/24.0 MB 1.8 MB/s eta 0:00:13\n",
      "   - -------------------------------------- 1.2/24.0 MB 1.8 MB/s eta 0:00:13\n",
      "   -- ------------------------------------- 1.3/24.0 MB 1.6 MB/s eta 0:00:15\n",
      "   -- ------------------------------------- 1.4/24.0 MB 1.6 MB/s eta 0:00:14\n",
      "   -- ------------------------------------- 1.4/24.0 MB 1.6 MB/s eta 0:00:14\n",
      "   -- ------------------------------------- 1.4/24.0 MB 1.6 MB/s eta 0:00:14\n",
      "   -- ------------------------------------- 1.4/24.0 MB 1.6 MB/s eta 0:00:14\n",
      "   -- ------------------------------------- 1.4/24.0 MB 1.6 MB/s eta 0:00:14\n",
      "   -- ------------------------------------- 1.4/24.0 MB 1.3 MB/s eta 0:00:18\n",
      "   -- ------------------------------------- 1.5/24.0 MB 1.3 MB/s eta 0:00:18\n",
      "   -- ------------------------------------- 1.6/24.0 MB 1.3 MB/s eta 0:00:17\n",
      "   -- ------------------------------------- 1.7/24.0 MB 1.4 MB/s eta 0:00:16\n",
      "   --- ------------------------------------ 1.9/24.0 MB 1.5 MB/s eta 0:00:16\n",
      "   --- ------------------------------------ 2.1/24.0 MB 1.5 MB/s eta 0:00:15\n",
      "   --- ------------------------------------ 2.2/24.0 MB 1.6 MB/s eta 0:00:14\n",
      "   ---- ----------------------------------- 2.4/24.0 MB 1.7 MB/s eta 0:00:13\n",
      "   ---- ----------------------------------- 2.7/24.0 MB 1.8 MB/s eta 0:00:12\n",
      "   ---- ----------------------------------- 2.9/24.0 MB 1.9 MB/s eta 0:00:11\n",
      "   ----- ---------------------------------- 3.2/24.0 MB 2.1 MB/s eta 0:00:11\n",
      "   ----- ---------------------------------- 3.5/24.0 MB 2.2 MB/s eta 0:00:10\n",
      "   ----- ---------------------------------- 3.5/24.0 MB 2.1 MB/s eta 0:00:10\n",
      "   ----- ---------------------------------- 3.5/24.0 MB 2.1 MB/s eta 0:00:10\n",
      "   ----- ---------------------------------- 3.6/24.0 MB 2.1 MB/s eta 0:00:10\n",
      "   ------ --------------------------------- 3.6/24.0 MB 2.0 MB/s eta 0:00:11\n",
      "   ------ --------------------------------- 3.6/24.0 MB 2.0 MB/s eta 0:00:11\n",
      "   ------ --------------------------------- 3.6/24.0 MB 2.0 MB/s eta 0:00:11\n",
      "   ------ --------------------------------- 3.6/24.0 MB 2.0 MB/s eta 0:00:11\n",
      "   ------ --------------------------------- 3.7/24.0 MB 1.9 MB/s eta 0:00:11\n",
      "   ------ --------------------------------- 3.8/24.0 MB 1.9 MB/s eta 0:00:11\n",
      "   ------ --------------------------------- 4.0/24.0 MB 1.9 MB/s eta 0:00:11\n",
      "   ------ --------------------------------- 4.2/24.0 MB 2.0 MB/s eta 0:00:11\n",
      "   ------ --------------------------------- 4.2/24.0 MB 2.0 MB/s eta 0:00:11\n",
      "   ------ --------------------------------- 4.2/24.0 MB 2.0 MB/s eta 0:00:11\n",
      "   ------ --------------------------------- 4.2/24.0 MB 2.0 MB/s eta 0:00:11\n",
      "   ------- -------------------------------- 4.2/24.0 MB 1.8 MB/s eta 0:00:11\n",
      "   ------- -------------------------------- 4.4/24.0 MB 1.9 MB/s eta 0:00:11\n",
      "   ------- -------------------------------- 4.6/24.0 MB 1.9 MB/s eta 0:00:11\n",
      "   -------- ------------------------------- 4.9/24.0 MB 2.0 MB/s eta 0:00:10\n",
      "   -------- ------------------------------- 5.1/24.0 MB 2.1 MB/s eta 0:00:10\n",
      "   -------- ------------------------------- 5.4/24.0 MB 2.1 MB/s eta 0:00:09\n",
      "   --------- ------------------------------ 5.7/24.0 MB 2.2 MB/s eta 0:00:09\n",
      "   --------- ------------------------------ 5.9/24.0 MB 2.2 MB/s eta 0:00:09\n",
      "   ---------- ----------------------------- 6.0/24.0 MB 2.3 MB/s eta 0:00:08\n",
      "   ---------- ----------------------------- 6.2/24.0 MB 2.3 MB/s eta 0:00:08\n",
      "   ---------- ----------------------------- 6.4/24.0 MB 2.3 MB/s eta 0:00:08\n",
      "   ---------- ----------------------------- 6.6/24.0 MB 2.3 MB/s eta 0:00:08\n",
      "   ----------- ---------------------------- 6.8/24.0 MB 2.4 MB/s eta 0:00:08\n",
      "   ----------- ---------------------------- 7.0/24.0 MB 2.4 MB/s eta 0:00:08\n",
      "   ----------- ---------------------------- 7.1/24.0 MB 2.4 MB/s eta 0:00:07\n",
      "   ------------ --------------------------- 7.3/24.0 MB 2.4 MB/s eta 0:00:07\n",
      "   ------------ --------------------------- 7.5/24.0 MB 2.5 MB/s eta 0:00:07\n",
      "   ------------ --------------------------- 7.7/24.0 MB 2.5 MB/s eta 0:00:07\n",
      "   ------------- -------------------------- 7.9/24.0 MB 2.5 MB/s eta 0:00:07\n",
      "   ------------- -------------------------- 8.0/24.0 MB 2.5 MB/s eta 0:00:07\n",
      "   ------------- -------------------------- 8.2/24.0 MB 2.5 MB/s eta 0:00:07\n",
      "   -------------- ------------------------- 8.4/24.0 MB 2.6 MB/s eta 0:00:07\n",
      "   -------------- ------------------------- 8.5/24.0 MB 2.6 MB/s eta 0:00:07\n",
      "   -------------- ------------------------- 8.5/24.0 MB 2.6 MB/s eta 0:00:07\n",
      "   -------------- ------------------------- 8.5/24.0 MB 2.6 MB/s eta 0:00:07\n",
      "   -------------- ------------------------- 8.7/24.0 MB 2.5 MB/s eta 0:00:07\n",
      "   -------------- ------------------------- 8.7/24.0 MB 2.5 MB/s eta 0:00:07\n",
      "   -------------- ------------------------- 8.7/24.0 MB 2.5 MB/s eta 0:00:07\n",
      "   -------------- ------------------------- 8.7/24.0 MB 2.5 MB/s eta 0:00:07\n",
      "   -------------- ------------------------- 8.7/24.0 MB 2.5 MB/s eta 0:00:07\n",
      "   -------------- ------------------------- 8.8/24.0 MB 2.4 MB/s eta 0:00:07\n",
      "   -------------- ------------------------- 9.0/24.0 MB 2.4 MB/s eta 0:00:07\n",
      "   --------------- ------------------------ 9.2/24.0 MB 2.4 MB/s eta 0:00:07\n",
      "   --------------- ------------------------ 9.5/24.0 MB 2.5 MB/s eta 0:00:06\n",
      "   ---------------- ----------------------- 9.7/24.0 MB 2.5 MB/s eta 0:00:06\n",
      "   ---------------- ----------------------- 10.0/24.0 MB 2.5 MB/s eta 0:00:06\n",
      "   ----------------- ---------------------- 10.3/24.0 MB 2.6 MB/s eta 0:00:06\n",
      "   ----------------- ---------------------- 10.4/24.0 MB 2.8 MB/s eta 0:00:05\n",
      "   ----------------- ---------------------- 10.6/24.0 MB 2.8 MB/s eta 0:00:05\n",
      "   ----------------- ---------------------- 10.8/24.0 MB 2.8 MB/s eta 0:00:05\n",
      "   ------------------ --------------------- 11.0/24.0 MB 2.8 MB/s eta 0:00:05\n",
      "   ------------------ --------------------- 11.2/24.0 MB 2.8 MB/s eta 0:00:05\n",
      "   ------------------ --------------------- 11.3/24.0 MB 2.8 MB/s eta 0:00:05\n",
      "   ------------------- -------------------- 11.5/24.0 MB 2.9 MB/s eta 0:00:05\n",
      "   ------------------- -------------------- 11.7/24.0 MB 3.2 MB/s eta 0:00:04\n",
      "   ------------------- -------------------- 11.8/24.0 MB 3.2 MB/s eta 0:00:04\n",
      "   ------------------- -------------------- 11.8/24.0 MB 3.2 MB/s eta 0:00:04\n",
      "   ------------------- -------------------- 11.8/24.0 MB 3.2 MB/s eta 0:00:04\n",
      "   ------------------- -------------------- 11.8/24.0 MB 3.2 MB/s eta 0:00:04\n",
      "   ------------------- -------------------- 11.8/24.0 MB 3.2 MB/s eta 0:00:04\n",
      "   ------------------- -------------------- 11.8/24.0 MB 3.2 MB/s eta 0:00:04\n",
      "   ------------------- -------------------- 11.8/24.0 MB 3.2 MB/s eta 0:00:04\n",
      "   ------------------- -------------------- 11.8/24.0 MB 3.2 MB/s eta 0:00:04\n",
      "   ------------------- -------------------- 11.8/24.0 MB 3.2 MB/s eta 0:00:04\n",
      "   ------------------- -------------------- 11.9/24.0 MB 2.8 MB/s eta 0:00:05\n",
      "   ------------------- -------------------- 11.9/24.0 MB 2.8 MB/s eta 0:00:05\n",
      "   ------------------- -------------------- 12.0/24.0 MB 2.8 MB/s eta 0:00:05\n",
      "   -------------------- ------------------- 12.3/24.0 MB 2.8 MB/s eta 0:00:05\n",
      "   -------------------- ------------------- 12.6/24.0 MB 2.8 MB/s eta 0:00:05\n",
      "   --------------------- ------------------ 12.9/24.0 MB 2.9 MB/s eta 0:00:04\n",
      "   --------------------- ------------------ 13.1/24.0 MB 2.8 MB/s eta 0:00:04\n",
      "   ---------------------- ----------------- 13.3/24.0 MB 2.8 MB/s eta 0:00:04\n",
      "   ---------------------- ----------------- 13.4/24.0 MB 2.8 MB/s eta 0:00:04\n",
      "   ---------------------- ----------------- 13.4/24.0 MB 2.8 MB/s eta 0:00:04\n",
      "   ---------------------- ----------------- 13.4/24.0 MB 2.8 MB/s eta 0:00:04\n",
      "   ---------------------- ----------------- 13.6/24.0 MB 2.7 MB/s eta 0:00:04\n",
      "   ----------------------- ---------------- 13.8/24.0 MB 2.8 MB/s eta 0:00:04\n",
      "   ----------------------- ---------------- 14.1/24.0 MB 3.0 MB/s eta 0:00:04\n",
      "   ----------------------- ---------------- 14.3/24.0 MB 3.0 MB/s eta 0:00:04\n",
      "   ------------------------ --------------- 14.7/24.0 MB 3.2 MB/s eta 0:00:03\n",
      "   ------------------------ --------------- 14.9/24.0 MB 3.2 MB/s eta 0:00:03\n",
      "   ------------------------- -------------- 15.0/24.0 MB 3.2 MB/s eta 0:00:03\n",
      "   ------------------------- -------------- 15.2/24.0 MB 3.2 MB/s eta 0:00:03\n",
      "   ------------------------- -------------- 15.4/24.0 MB 3.2 MB/s eta 0:00:03\n",
      "   ------------------------- -------------- 15.5/24.0 MB 3.2 MB/s eta 0:00:03\n",
      "   ------------------------- -------------- 15.5/24.0 MB 3.2 MB/s eta 0:00:03\n",
      "   -------------------------- ------------- 15.6/24.0 MB 3.1 MB/s eta 0:00:03\n",
      "   -------------------------- ------------- 15.8/24.0 MB 3.1 MB/s eta 0:00:03\n",
      "   -------------------------- ------------- 16.0/24.0 MB 3.1 MB/s eta 0:00:03\n",
      "   -------------------------- ------------- 16.1/24.0 MB 3.1 MB/s eta 0:00:03\n",
      "   --------------------------- ------------ 16.3/24.0 MB 3.1 MB/s eta 0:00:03\n",
      "   --------------------------- ------------ 16.5/24.0 MB 3.1 MB/s eta 0:00:03\n",
      "   --------------------------- ------------ 16.6/24.0 MB 3.1 MB/s eta 0:00:03\n",
      "   --------------------------- ------------ 16.6/24.0 MB 3.1 MB/s eta 0:00:03\n",
      "   --------------------------- ------------ 16.6/24.0 MB 3.1 MB/s eta 0:00:03\n",
      "   ---------------------------- ----------- 16.9/24.0 MB 3.0 MB/s eta 0:00:03\n",
      "   ---------------------------- ----------- 17.2/24.0 MB 3.0 MB/s eta 0:00:03\n",
      "   ---------------------------- ----------- 17.3/24.0 MB 3.0 MB/s eta 0:00:03\n",
      "   ---------------------------- ----------- 17.3/24.0 MB 3.0 MB/s eta 0:00:03\n",
      "   ---------------------------- ----------- 17.4/24.0 MB 2.9 MB/s eta 0:00:03\n",
      "   ----------------------------- ---------- 17.6/24.0 MB 2.9 MB/s eta 0:00:03\n",
      "   ----------------------------- ---------- 17.6/24.0 MB 2.9 MB/s eta 0:00:03\n",
      "   ----------------------------- ---------- 17.6/24.0 MB 2.9 MB/s eta 0:00:03\n",
      "   ----------------------------- ---------- 17.7/24.0 MB 2.8 MB/s eta 0:00:03\n",
      "   ----------------------------- ---------- 17.8/24.0 MB 2.8 MB/s eta 0:00:03\n",
      "   ----------------------------- ---------- 17.8/24.0 MB 2.8 MB/s eta 0:00:03\n",
      "   ----------------------------- ---------- 17.8/24.0 MB 2.8 MB/s eta 0:00:03\n",
      "   ----------------------------- ---------- 17.9/24.0 MB 2.7 MB/s eta 0:00:03\n",
      "   ------------------------------ --------- 18.0/24.0 MB 2.7 MB/s eta 0:00:03\n",
      "   ------------------------------ --------- 18.1/24.0 MB 2.7 MB/s eta 0:00:03\n",
      "   ------------------------------ --------- 18.3/24.0 MB 2.7 MB/s eta 0:00:03\n",
      "   ------------------------------ --------- 18.5/24.0 MB 2.7 MB/s eta 0:00:03\n",
      "   ------------------------------- -------- 18.7/24.0 MB 2.7 MB/s eta 0:00:02\n",
      "   ------------------------------- -------- 18.9/24.0 MB 2.8 MB/s eta 0:00:02\n",
      "   ------------------------------- -------- 19.1/24.0 MB 3.0 MB/s eta 0:00:02\n",
      "   -------------------------------- ------- 19.2/24.0 MB 3.0 MB/s eta 0:00:02\n",
      "   -------------------------------- ------- 19.2/24.0 MB 3.0 MB/s eta 0:00:02\n",
      "   -------------------------------- ------- 19.3/24.0 MB 2.9 MB/s eta 0:00:02\n",
      "   -------------------------------- ------- 19.5/24.0 MB 2.9 MB/s eta 0:00:02\n",
      "   -------------------------------- ------- 19.6/24.0 MB 2.9 MB/s eta 0:00:02\n",
      "   -------------------------------- ------- 19.6/24.0 MB 2.9 MB/s eta 0:00:02\n",
      "   -------------------------------- ------- 19.6/24.0 MB 2.9 MB/s eta 0:00:02\n",
      "   -------------------------------- ------- 19.7/24.0 MB 2.8 MB/s eta 0:00:02\n",
      "   --------------------------------- ------ 19.9/24.0 MB 2.8 MB/s eta 0:00:02\n",
      "   --------------------------------- ------ 20.0/24.0 MB 2.8 MB/s eta 0:00:02\n",
      "   --------------------------------- ------ 20.2/24.0 MB 2.7 MB/s eta 0:00:02\n",
      "   ---------------------------------- ----- 20.4/24.0 MB 2.7 MB/s eta 0:00:02\n",
      "   ---------------------------------- ----- 20.5/24.0 MB 2.7 MB/s eta 0:00:02\n",
      "   ---------------------------------- ----- 20.5/24.0 MB 2.7 MB/s eta 0:00:02\n",
      "   ---------------------------------- ----- 20.5/24.0 MB 2.7 MB/s eta 0:00:02\n",
      "   ---------------------------------- ----- 20.5/24.0 MB 2.7 MB/s eta 0:00:02\n",
      "   ---------------------------------- ----- 20.5/24.0 MB 2.6 MB/s eta 0:00:02\n",
      "   ---------------------------------- ----- 20.6/24.0 MB 2.6 MB/s eta 0:00:02\n",
      "   ---------------------------------- ----- 20.7/24.0 MB 2.6 MB/s eta 0:00:02\n",
      "   ---------------------------------- ----- 20.9/24.0 MB 2.6 MB/s eta 0:00:02\n",
      "   ----------------------------------- ---- 21.1/24.0 MB 2.6 MB/s eta 0:00:02\n",
      "   ----------------------------------- ---- 21.2/24.0 MB 2.6 MB/s eta 0:00:02\n",
      "   ----------------------------------- ---- 21.2/24.0 MB 2.6 MB/s eta 0:00:02\n",
      "   ----------------------------------- ---- 21.2/24.0 MB 2.5 MB/s eta 0:00:02\n",
      "   ----------------------------------- ---- 21.4/24.0 MB 2.5 MB/s eta 0:00:02\n",
      "   ----------------------------------- ---- 21.6/24.0 MB 2.5 MB/s eta 0:00:01\n",
      "   ------------------------------------ --- 21.7/24.0 MB 2.5 MB/s eta 0:00:01\n",
      "   ------------------------------------ --- 21.9/24.0 MB 2.5 MB/s eta 0:00:01\n",
      "   ------------------------------------ --- 22.0/24.0 MB 2.8 MB/s eta 0:00:01\n",
      "   ------------------------------------ --- 22.2/24.0 MB 2.8 MB/s eta 0:00:01\n",
      "   ------------------------------------- -- 22.4/24.0 MB 2.8 MB/s eta 0:00:01\n",
      "   ------------------------------------- -- 22.6/24.0 MB 2.8 MB/s eta 0:00:01\n",
      "   ------------------------------------- -- 22.6/24.0 MB 2.8 MB/s eta 0:00:01\n",
      "   ------------------------------------- -- 22.6/24.0 MB 2.8 MB/s eta 0:00:01\n",
      "   ------------------------------------- -- 22.6/24.0 MB 2.8 MB/s eta 0:00:01\n",
      "   ------------------------------------- -- 22.6/24.0 MB 2.8 MB/s eta 0:00:01\n",
      "   ------------------------------------- -- 22.6/24.0 MB 2.8 MB/s eta 0:00:01\n",
      "   ------------------------------------- -- 22.6/24.0 MB 2.8 MB/s eta 0:00:01\n",
      "   ------------------------------------- -- 22.7/24.0 MB 2.6 MB/s eta 0:00:01\n",
      "   ------------------------------------- -- 22.7/24.0 MB 2.5 MB/s eta 0:00:01\n",
      "   ------------------------------------- -- 22.8/24.0 MB 2.5 MB/s eta 0:00:01\n",
      "   -------------------------------------- - 22.8/24.0 MB 2.5 MB/s eta 0:00:01\n",
      "   -------------------------------------- - 22.8/24.0 MB 2.5 MB/s eta 0:00:01\n",
      "   -------------------------------------- - 22.9/24.0 MB 2.4 MB/s eta 0:00:01\n",
      "   -------------------------------------- - 23.0/24.0 MB 2.4 MB/s eta 0:00:01\n",
      "   -------------------------------------- - 23.2/24.0 MB 2.4 MB/s eta 0:00:01\n",
      "   -------------------------------------- - 23.3/24.0 MB 2.4 MB/s eta 0:00:01\n",
      "   ---------------------------------------  23.5/24.0 MB 2.4 MB/s eta 0:00:01\n",
      "   ---------------------------------------  23.7/24.0 MB 2.5 MB/s eta 0:00:01\n",
      "   ---------------------------------------  23.8/24.0 MB 2.5 MB/s eta 0:00:01\n",
      "   ---------------------------------------  23.8/24.0 MB 2.5 MB/s eta 0:00:01\n",
      "   ---------------------------------------  23.8/24.0 MB 2.5 MB/s eta 0:00:01\n",
      "   ---------------------------------------  23.8/24.0 MB 2.5 MB/s eta 0:00:01\n",
      "   ---------------------------------------  23.8/24.0 MB 2.5 MB/s eta 0:00:01\n",
      "   ---------------------------------------  23.8/24.0 MB 2.3 MB/s eta 0:00:01\n",
      "   ---------------------------------------  24.0/24.0 MB 2.3 MB/s eta 0:00:01\n",
      "   ---------------------------------------  24.0/24.0 MB 2.3 MB/s eta 0:00:01\n",
      "   ---------------------------------------  24.0/24.0 MB 2.3 MB/s eta 0:00:01\n",
      "   ---------------------------------------  24.0/24.0 MB 2.3 MB/s eta 0:00:01\n",
      "   ---------------------------------------- 24.0/24.0 MB 2.2 MB/s eta 0:00:00\n",
      "Installing collected packages: gensim\n",
      "Successfully installed gensim-4.3.2\n"
     ]
    }
   ],
   "source": [
    "pip install gensim"
   ]
  },
  {
   "cell_type": "code",
   "execution_count": 118,
   "metadata": {},
   "outputs": [
    {
     "name": "stdout",
     "output_type": "stream",
     "text": [
      "^C\n",
      "Note: you may need to restart the kernel to use updated packages.\n"
     ]
    }
   ],
   "source": [
    "pip uninstall gensim"
   ]
  },
  {
   "cell_type": "code",
   "execution_count": 3,
   "metadata": {},
   "outputs": [
    {
     "name": "stdout",
     "output_type": "stream",
     "text": [
      "Note: you may need to restart the kernel to use updated packages.\n",
      "Collecting gensim==3.8.3\n",
      "  Using cached gensim-3.8.3.tar.gz (23.4 MB)\n",
      "  Installing build dependencies: started\n",
      "  Installing build dependencies: finished with status 'done'\n",
      "  Getting requirements to build wheel: started\n",
      "  Getting requirements to build wheel: finished with status 'done'\n",
      "  Installing backend dependencies: started\n",
      "  Installing backend dependencies: finished with status 'done'\n",
      "  Preparing metadata (pyproject.toml): started\n",
      "  Preparing metadata (pyproject.toml): finished with status 'error'\n"
     ]
    },
    {
     "name": "stderr",
     "output_type": "stream",
     "text": [
      "  error: subprocess-exited-with-error\n",
      "  \n",
      "  × Preparing metadata (pyproject.toml) did not run successfully.\n",
      "  │ exit code: 1\n",
      "  ╰─> [60 lines of output]\n",
      "      running dist_info\n",
      "      creating C:\\Users\\91637\\AppData\\Local\\Temp\\pip-modern-metadata-qz9a1qzw\\gensim.egg-info\n",
      "      writing C:\\Users\\91637\\AppData\\Local\\Temp\\pip-modern-metadata-qz9a1qzw\\gensim.egg-info\\PKG-INFO\n",
      "      writing dependency_links to C:\\Users\\91637\\AppData\\Local\\Temp\\pip-modern-metadata-qz9a1qzw\\gensim.egg-info\\dependency_links.txt\n",
      "      writing requirements to C:\\Users\\91637\\AppData\\Local\\Temp\\pip-modern-metadata-qz9a1qzw\\gensim.egg-info\\requires.txt\n",
      "      writing top-level names to C:\\Users\\91637\\AppData\\Local\\Temp\\pip-modern-metadata-qz9a1qzw\\gensim.egg-info\\top_level.txt\n",
      "      writing manifest file 'C:\\Users\\91637\\AppData\\Local\\Temp\\pip-modern-metadata-qz9a1qzw\\gensim.egg-info\\SOURCES.txt'\n",
      "      Traceback (most recent call last):\n",
      "        File \"C:\\Program Files\\WindowsApps\\PythonSoftwareFoundation.Python.3.11_3.11.2544.0_x64__qbz5n2kfra8p0\\Lib\\site-packages\\pip\\_vendor\\pyproject_hooks\\_in_process\\_in_process.py\", line 353, in <module>\n",
      "          main()\n",
      "        File \"C:\\Program Files\\WindowsApps\\PythonSoftwareFoundation.Python.3.11_3.11.2544.0_x64__qbz5n2kfra8p0\\Lib\\site-packages\\pip\\_vendor\\pyproject_hooks\\_in_process\\_in_process.py\", line 335, in main\n",
      "          json_out['return_val'] = hook(**hook_input['kwargs'])\n",
      "                                   ^^^^^^^^^^^^^^^^^^^^^^^^^^^^\n",
      "        File \"C:\\Program Files\\WindowsApps\\PythonSoftwareFoundation.Python.3.11_3.11.2544.0_x64__qbz5n2kfra8p0\\Lib\\site-packages\\pip\\_vendor\\pyproject_hooks\\_in_process\\_in_process.py\", line 149, in prepare_metadata_for_build_wheel\n",
      "          return hook(metadata_directory, config_settings)\n",
      "                 ^^^^^^^^^^^^^^^^^^^^^^^^^^^^^^^^^^^^^^^^^\n",
      "        File \"C:\\Users\\91637\\AppData\\Local\\Temp\\pip-build-env-gy9kl3r_\\overlay\\Lib\\site-packages\\setuptools\\build_meta.py\", line 368, in prepare_metadata_for_build_wheel\n",
      "          self.run_setup()\n",
      "        File \"C:\\Users\\91637\\AppData\\Local\\Temp\\pip-build-env-gy9kl3r_\\overlay\\Lib\\site-packages\\setuptools\\build_meta.py\", line 497, in run_setup\n",
      "          super().run_setup(setup_script=setup_script)\n",
      "        File \"C:\\Users\\91637\\AppData\\Local\\Temp\\pip-build-env-gy9kl3r_\\overlay\\Lib\\site-packages\\setuptools\\build_meta.py\", line 313, in run_setup\n",
      "          exec(code, locals())\n",
      "        File \"<string>\", line 367, in <module>\n",
      "        File \"C:\\Users\\91637\\AppData\\Local\\Temp\\pip-build-env-gy9kl3r_\\overlay\\Lib\\site-packages\\setuptools\\__init__.py\", line 103, in setup\n",
      "          return distutils.core.setup(**attrs)\n",
      "                 ^^^^^^^^^^^^^^^^^^^^^^^^^^^^^\n",
      "        File \"C:\\Users\\91637\\AppData\\Local\\Temp\\pip-build-env-gy9kl3r_\\overlay\\Lib\\site-packages\\setuptools\\_distutils\\core.py\", line 184, in setup\n",
      "          return run_commands(dist)\n",
      "                 ^^^^^^^^^^^^^^^^^^\n",
      "        File \"C:\\Users\\91637\\AppData\\Local\\Temp\\pip-build-env-gy9kl3r_\\overlay\\Lib\\site-packages\\setuptools\\_distutils\\core.py\", line 200, in run_commands\n",
      "          dist.run_commands()\n",
      "        File \"C:\\Users\\91637\\AppData\\Local\\Temp\\pip-build-env-gy9kl3r_\\overlay\\Lib\\site-packages\\setuptools\\_distutils\\dist.py\", line 969, in run_commands\n",
      "          self.run_command(cmd)\n",
      "        File \"C:\\Users\\91637\\AppData\\Local\\Temp\\pip-build-env-gy9kl3r_\\overlay\\Lib\\site-packages\\setuptools\\dist.py\", line 976, in run_command\n",
      "          super().run_command(command)\n",
      "        File \"C:\\Users\\91637\\AppData\\Local\\Temp\\pip-build-env-gy9kl3r_\\overlay\\Lib\\site-packages\\setuptools\\_distutils\\dist.py\", line 988, in run_command\n",
      "          cmd_obj.run()\n",
      "        File \"C:\\Users\\91637\\AppData\\Local\\Temp\\pip-build-env-gy9kl3r_\\overlay\\Lib\\site-packages\\setuptools\\command\\dist_info.py\", line 92, in run\n",
      "          self.egg_info.run()\n",
      "        File \"C:\\Users\\91637\\AppData\\Local\\Temp\\pip-build-env-gy9kl3r_\\overlay\\Lib\\site-packages\\setuptools\\command\\egg_info.py\", line 321, in run\n",
      "          self.find_sources()\n",
      "        File \"C:\\Users\\91637\\AppData\\Local\\Temp\\pip-build-env-gy9kl3r_\\overlay\\Lib\\site-packages\\setuptools\\command\\egg_info.py\", line 329, in find_sources\n",
      "          mm.run()\n",
      "        File \"C:\\Users\\91637\\AppData\\Local\\Temp\\pip-build-env-gy9kl3r_\\overlay\\Lib\\site-packages\\setuptools\\command\\egg_info.py\", line 550, in run\n",
      "          self.add_defaults()\n",
      "        File \"C:\\Users\\91637\\AppData\\Local\\Temp\\pip-build-env-gy9kl3r_\\overlay\\Lib\\site-packages\\setuptools\\command\\egg_info.py\", line 588, in add_defaults\n",
      "          sdist.add_defaults(self)\n",
      "        File \"C:\\Users\\91637\\AppData\\Local\\Temp\\pip-build-env-gy9kl3r_\\overlay\\Lib\\site-packages\\setuptools\\command\\sdist.py\", line 102, in add_defaults\n",
      "          super().add_defaults()\n",
      "        File \"C:\\Users\\91637\\AppData\\Local\\Temp\\pip-build-env-gy9kl3r_\\overlay\\Lib\\site-packages\\setuptools\\_distutils\\command\\sdist.py\", line 250, in add_defaults\n",
      "          self._add_defaults_ext()\n",
      "        File \"C:\\Users\\91637\\AppData\\Local\\Temp\\pip-build-env-gy9kl3r_\\overlay\\Lib\\site-packages\\setuptools\\_distutils\\command\\sdist.py\", line 334, in _add_defaults_ext\n",
      "          build_ext = self.get_finalized_command('build_ext')\n",
      "                      ^^^^^^^^^^^^^^^^^^^^^^^^^^^^^^^^^^^^^^^\n",
      "        File \"C:\\Users\\91637\\AppData\\Local\\Temp\\pip-build-env-gy9kl3r_\\overlay\\Lib\\site-packages\\setuptools\\_distutils\\cmd.py\", line 303, in get_finalized_command\n",
      "          cmd_obj.ensure_finalized()\n",
      "        File \"C:\\Users\\91637\\AppData\\Local\\Temp\\pip-build-env-gy9kl3r_\\overlay\\Lib\\site-packages\\setuptools\\_distutils\\cmd.py\", line 111, in ensure_finalized\n",
      "          self.finalize_options()\n",
      "        File \"<string>\", line 111, in finalize_options\n",
      "      AttributeError: 'dict' object has no attribute '__NUMPY_SETUP__'\n",
      "      [end of output]\n",
      "  \n",
      "  note: This error originates from a subprocess, and is likely not a problem with pip.\n",
      "error: metadata-generation-failed\n",
      "\n",
      "× Encountered error while generating package metadata.\n",
      "╰─> See above for output.\n",
      "\n",
      "note: This is an issue with the package mentioned above, not pip.\n",
      "hint: See above for details.\n",
      "\n",
      "[notice] A new release of pip is available: 24.0 -> 24.1\n",
      "[notice] To update, run: C:\\Users\\91637\\AppData\\Local\\Microsoft\\WindowsApps\\PythonSoftwareFoundation.Python.3.11_qbz5n2kfra8p0\\python.exe -m pip install --upgrade pip\n"
     ]
    }
   ],
   "source": [
    "pip install gensim==3.8.3"
   ]
  },
  {
   "cell_type": "code",
   "execution_count": null,
   "metadata": {},
   "outputs": [
    {
     "ename": "ModuleNotFoundError",
     "evalue": "No module named 'gensim'",
     "output_type": "error",
     "traceback": [
      "\u001b[1;31m---------------------------------------------------------------------------\u001b[0m",
      "\u001b[1;31mModuleNotFoundError\u001b[0m                       Traceback (most recent call last)",
      "Cell \u001b[1;32mIn[12], line 1\u001b[0m\n\u001b[1;32m----> 1\u001b[0m \u001b[38;5;28;01mfrom\u001b[39;00m \u001b[38;5;21;01mgensim\u001b[39;00m\u001b[38;5;21;01m.\u001b[39;00m\u001b[38;5;21;01mutils\u001b[39;00m \u001b[38;5;28;01mimport\u001b[39;00m lemmatize\n\u001b[0;32m      3\u001b[0m sentence \u001b[38;5;241m=\u001b[39m \u001b[38;5;124m\"\u001b[39m\u001b[38;5;124mthe bats saw the cats with best stripes hanging upside down by their feet\u001b[39m\u001b[38;5;124m\"\u001b[39m\n\u001b[0;32m      5\u001b[0m lemmatized_sentence \u001b[38;5;241m=\u001b[39m [word\u001b[38;5;241m.\u001b[39mdecode(\u001b[38;5;124m'\u001b[39m\u001b[38;5;124mutf-8\u001b[39m\u001b[38;5;124m'\u001b[39m)\u001b[38;5;241m.\u001b[39msplit(\u001b[38;5;124m'\u001b[39m\u001b[38;5;124m.\u001b[39m\u001b[38;5;124m'\u001b[39m)[\u001b[38;5;241m0\u001b[39m] \u001b[38;5;28;01mfor\u001b[39;00m word \u001b[38;5;129;01min\u001b[39;00m lemmatize(sentence)]\n",
      "\u001b[1;31mModuleNotFoundError\u001b[0m: No module named 'gensim'"
     ]
    }
   ],
   "source": [
    "from gensim.utils import lemmatize\n",
    "\n",
    "sentence = \"the bats saw the cats with best stripes hanging upside down by their feet\"\n",
    "\n",
    "lemmatized_sentence = [word.decode('utf-8').split('.')[0] for word in lemmatize(sentence)]\n",
    "\n",
    "print(lemmatized_sentence)\n",
    "\n"
   ]
  },
  {
   "cell_type": "markdown",
   "metadata": {},
   "source": [
    "(vii)Stanford CoreNLP"
   ]
  },
  {
   "cell_type": "markdown",
   "metadata": {},
   "source": [
    "Stanford CoreNLP is a suite of natural language analysis tools developed by the Stanford NLP Group. It provides various NLP tools such as part-of-speech tagging, named entity recognition, parsing, and coreference resolution.CoreNLP currently supports 6 languages, including Arabic, Chinese, English, French, German, and Spanish."
   ]
  },
  {
   "cell_type": "code",
   "execution_count": 55,
   "metadata": {},
   "outputs": [
    {
     "name": "stdout",
     "output_type": "stream",
     "text": [
      "Collecting StanfordCoreNLP\n",
      "  Downloading stanfordcorenlp-3.9.1.1-py2.py3-none-any.whl.metadata (1.3 kB)\n",
      "Requirement already satisfied: psutil in c:\\users\\91637\\appdata\\local\\packages\\pythonsoftwarefoundation.python.3.11_qbz5n2kfra8p0\\localcache\\local-packages\\python311\\site-packages (from StanfordCoreNLP) (6.0.0)\n",
      "Requirement already satisfied: requests in c:\\users\\91637\\appdata\\local\\packages\\pythonsoftwarefoundation.python.3.11_qbz5n2kfra8p0\\localcache\\local-packages\\python311\\site-packages (from StanfordCoreNLP) (2.32.2)\n",
      "Requirement already satisfied: charset-normalizer<4,>=2 in c:\\users\\91637\\appdata\\local\\packages\\pythonsoftwarefoundation.python.3.11_qbz5n2kfra8p0\\localcache\\local-packages\\python311\\site-packages (from requests->StanfordCoreNLP) (3.3.2)\n",
      "Requirement already satisfied: idna<4,>=2.5 in c:\\users\\91637\\appdata\\local\\packages\\pythonsoftwarefoundation.python.3.11_qbz5n2kfra8p0\\localcache\\local-packages\\python311\\site-packages (from requests->StanfordCoreNLP) (3.7)\n",
      "Requirement already satisfied: urllib3<3,>=1.21.1 in c:\\users\\91637\\appdata\\local\\packages\\pythonsoftwarefoundation.python.3.11_qbz5n2kfra8p0\\localcache\\local-packages\\python311\\site-packages (from requests->StanfordCoreNLP) (2.2.1)\n",
      "Requirement already satisfied: certifi>=2017.4.17 in c:\\users\\91637\\appdata\\local\\packages\\pythonsoftwarefoundation.python.3.11_qbz5n2kfra8p0\\localcache\\local-packages\\python311\\site-packages (from requests->StanfordCoreNLP) (2024.2.2)\n",
      "Downloading stanfordcorenlp-3.9.1.1-py2.py3-none-any.whl (5.7 kB)\n",
      "Installing collected packages: StanfordCoreNLP\n",
      "Successfully installed StanfordCoreNLP-3.9.1.1\n",
      "Note: you may need to restart the kernel to use updated packages.\n"
     ]
    },
    {
     "name": "stderr",
     "output_type": "stream",
     "text": [
      "\n",
      "[notice] A new release of pip is available: 24.0 -> 24.1\n",
      "[notice] To update, run: C:\\Users\\91637\\AppData\\Local\\Microsoft\\WindowsApps\\PythonSoftwareFoundation.Python.3.11_qbz5n2kfra8p0\\python.exe -m pip install --upgrade pip\n"
     ]
    }
   ],
   "source": [
    "pip install StanfordCoreNLP"
   ]
  },
  {
   "cell_type": "code",
   "execution_count": 2,
   "metadata": {},
   "outputs": [
    {
     "name": "stdout",
     "output_type": "stream",
     "text": [
      "^C\n",
      "Note: you may need to restart the kernel to use updated packages.\n"
     ]
    },
    {
     "name": "stdout",
     "output_type": "stream",
     "text": [
      "Collecting stanfordnlp\n",
      "  Using cached stanfordnlp-0.2.0-py3-none-any.whl.metadata (8.6 kB)\n",
      "Requirement already satisfied: numpy in c:\\users\\91637\\appdata\\local\\packages\\pythonsoftwarefoundation.python.3.11_qbz5n2kfra8p0\\localcache\\local-packages\\python311\\site-packages (from stanfordnlp) (1.26.0)\n",
      "Collecting protobuf (from stanfordnlp)\n",
      "  Using cached protobuf-5.27.1-cp310-abi3-win_amd64.whl.metadata (592 bytes)\n",
      "Requirement already satisfied: requests in c:\\users\\91637\\appdata\\local\\packages\\pythonsoftwarefoundation.python.3.11_qbz5n2kfra8p0\\localcache\\local-packages\\python311\\site-packages (from stanfordnlp) (2.32.2)\n",
      "Collecting torch>=1.0.0 (from stanfordnlp)\n",
      "  Using cached torch-2.3.1-cp311-cp311-win_amd64.whl.metadata (26 kB)\n",
      "Requirement already satisfied: tqdm in c:\\users\\91637\\appdata\\local\\packages\\pythonsoftwarefoundation.python.3.11_qbz5n2kfra8p0\\localcache\\local-packages\\python311\\site-packages (from stanfordnlp) (4.66.4)\n",
      "Collecting filelock (from torch>=1.0.0->stanfordnlp)\n",
      "  Using cached filelock-3.15.4-py3-none-any.whl.metadata (2.9 kB)\n",
      "Requirement already satisfied: typing-extensions>=4.8.0 in c:\\users\\91637\\appdata\\local\\packages\\pythonsoftwarefoundation.python.3.11_qbz5n2kfra8p0\\localcache\\local-packages\\python311\\site-packages (from torch>=1.0.0->stanfordnlp) (4.12.1)\n",
      "Requirement already satisfied: sympy in c:\\users\\91637\\appdata\\local\\packages\\pythonsoftwarefoundation.python.3.11_qbz5n2kfra8p0\\localcache\\local-packages\\python311\\site-packages (from torch>=1.0.0->stanfordnlp) (1.12.1)\n",
      "Collecting networkx (from torch>=1.0.0->stanfordnlp)\n",
      "  Using cached networkx-3.3-py3-none-any.whl.metadata (5.1 kB)\n",
      "Requirement already satisfied: jinja2 in c:\\users\\91637\\appdata\\local\\packages\\pythonsoftwarefoundation.python.3.11_qbz5n2kfra8p0\\localcache\\local-packages\\python311\\site-packages (from torch>=1.0.0->stanfordnlp) (3.1.4)\n",
      "Collecting fsspec (from torch>=1.0.0->stanfordnlp)\n",
      "  Using cached fsspec-2024.6.0-py3-none-any.whl.metadata (11 kB)\n",
      "Collecting mkl<=2021.4.0,>=2021.1.1 (from torch>=1.0.0->stanfordnlp)\n",
      "  Using cached mkl-2021.4.0-py2.py3-none-win_amd64.whl.metadata (1.4 kB)\n",
      "Requirement already satisfied: charset-normalizer<4,>=2 in c:\\users\\91637\\appdata\\local\\packages\\pythonsoftwarefoundation.python.3.11_qbz5n2kfra8p0\\localcache\\local-packages\\python311\\site-packages (from requests->stanfordnlp) (3.3.2)\n",
      "Requirement already satisfied: idna<4,>=2.5 in c:\\users\\91637\\appdata\\local\\packages\\pythonsoftwarefoundation.python.3.11_qbz5n2kfra8p0\\localcache\\local-packages\\python311\\site-packages (from requests->stanfordnlp) (3.7)\n",
      "Requirement already satisfied: urllib3<3,>=1.21.1 in c:\\users\\91637\\appdata\\local\\packages\\pythonsoftwarefoundation.python.3.11_qbz5n2kfra8p0\\localcache\\local-packages\\python311\\site-packages (from requests->stanfordnlp) (2.2.1)\n",
      "Requirement already satisfied: certifi>=2017.4.17 in c:\\users\\91637\\appdata\\local\\packages\\pythonsoftwarefoundation.python.3.11_qbz5n2kfra8p0\\localcache\\local-packages\\python311\\site-packages (from requests->stanfordnlp) (2024.2.2)\n",
      "Requirement already satisfied: colorama in c:\\users\\91637\\appdata\\local\\packages\\pythonsoftwarefoundation.python.3.11_qbz5n2kfra8p0\\localcache\\local-packages\\python311\\site-packages (from tqdm->stanfordnlp) (0.4.6)\n",
      "Requirement already satisfied: intel-openmp==2021.* in c:\\users\\91637\\appdata\\local\\packages\\pythonsoftwarefoundation.python.3.11_qbz5n2kfra8p0\\localcache\\local-packages\\python311\\site-packages (from mkl<=2021.4.0,>=2021.1.1->torch>=1.0.0->stanfordnlp) (2021.4.0)\n",
      "Requirement already satisfied: tbb==2021.* in c:\\users\\91637\\appdata\\local\\packages\\pythonsoftwarefoundation.python.3.11_qbz5n2kfra8p0\\localcache\\local-packages\\python311\\site-packages (from mkl<=2021.4.0,>=2021.1.1->torch>=1.0.0->stanfordnlp) (2021.13.0)\n",
      "Requirement already satisfied: MarkupSafe>=2.0 in c:\\users\\91637\\appdata\\local\\packages\\pythonsoftwarefoundation.python.3.11_qbz5n2kfra8p0\\localcache\\local-packages\\python311\\site-packages (from jinja2->torch>=1.0.0->stanfordnlp) (2.1.5)\n",
      "Requirement already satisfied: mpmath<1.4.0,>=1.1.0 in c:\\users\\91637\\appdata\\local\\packages\\pythonsoftwarefoundation.python.3.11_qbz5n2kfra8p0\\localcache\\local-packages\\python311\\site-packages (from sympy->torch>=1.0.0->stanfordnlp) (1.3.0)\n",
      "Using cached stanfordnlp-0.2.0-py3-none-any.whl (158 kB)\n",
      "Using cached torch-2.3.1-cp311-cp311-win_amd64.whl (159.8 MB)\n",
      "Using cached protobuf-5.27.1-cp310-abi3-win_amd64.whl (426 kB)\n",
      "Using cached mkl-2021.4.0-py2.py3-none-win_amd64.whl (228.5 MB)\n",
      "Using cached filelock-3.15.4-py3-none-any.whl (16 kB)\n",
      "Using cached fsspec-2024.6.0-py3-none-any.whl (176 kB)\n",
      "Using cached networkx-3.3-py3-none-any.whl (1.7 MB)\n",
      "Installing collected packages: protobuf, networkx, mkl, fsspec, filelock, torch, stanfordnlp\n"
     ]
    },
    {
     "name": "stderr",
     "output_type": "stream",
     "text": [
      "ERROR: Could not install packages due to an OSError: [WinError 32] The process cannot access the file because it is being used by another process: 'C:\\\\Users\\\\91637\\\\AppData\\\\Local\\\\Packages\\\\PythonSoftwareFoundation.Python.3.11_qbz5n2kfra8p0\\\\LocalCache\\\\local-packages\\\\Python311\\\\site-packages\\\\networkx\\\\algorithms\\\\summarization.py'\n",
      "Check the permissions.\n",
      "\n",
      "\n",
      "[notice] A new release of pip is available: 24.0 -> 24.1\n",
      "[notice] To update, run: C:\\Users\\91637\\AppData\\Local\\Microsoft\\WindowsApps\\PythonSoftwareFoundation.Python.3.11_qbz5n2kfra8p0\\python.exe -m pip install --upgrade pip\n"
     ]
    }
   ],
   "source": [
    "pip install stanfordnlp"
   ]
  },
  {
   "cell_type": "code",
   "execution_count": 2,
   "metadata": {},
   "outputs": [],
   "source": [
    "import stanfordnlp\n",
    "stanfordnlp.download(\"es\")\n",
    "nlp = stanfordnlp.Pipeline(processors='tokenize,mwt,pos,lemma')"
   ]
  },
  {
   "cell_type": "code",
   "execution_count": 1,
   "metadata": {},
   "outputs": [
    {
     "ename": "NameError",
     "evalue": "name 'nlp' is not defined",
     "output_type": "error",
     "traceback": [
      "\u001b[1;31m---------------------------------------------------------------------------\u001b[0m",
      "\u001b[1;31mNameError\u001b[0m                                 Traceback (most recent call last)",
      "Cell \u001b[1;32mIn[1], line 1\u001b[0m\n\u001b[1;32m----> 1\u001b[0m doc \u001b[38;5;241m=\u001b[39m \u001b[43mnlp\u001b[49m(\u001b[38;5;124m\"\u001b[39m\u001b[38;5;124mBarack Obama was born in Hawaii.\u001b[39m\u001b[38;5;124m\"\u001b[39m)\n\u001b[0;32m      2\u001b[0m \u001b[38;5;28mprint\u001b[39m(\u001b[38;5;241m*\u001b[39m[\u001b[38;5;124mf\u001b[39m\u001b[38;5;124m'\u001b[39m\u001b[38;5;124mword: \u001b[39m\u001b[38;5;132;01m{\u001b[39;00mword\u001b[38;5;241m.\u001b[39mtext\u001b[38;5;241m+\u001b[39m\u001b[38;5;124m\"\u001b[39m\u001b[38;5;124m \u001b[39m\u001b[38;5;124m\"\u001b[39m\u001b[38;5;132;01m}\u001b[39;00m\u001b[38;5;130;01m\\t\u001b[39;00m\u001b[38;5;124mlemma: \u001b[39m\u001b[38;5;132;01m{\u001b[39;00mword\u001b[38;5;241m.\u001b[39mlemma\u001b[38;5;132;01m}\u001b[39;00m\u001b[38;5;124m'\u001b[39m \u001b[38;5;28;01mfor\u001b[39;00m sent \u001b[38;5;129;01min\u001b[39;00m doc\u001b[38;5;241m.\u001b[39msentences \u001b[38;5;28;01mfor\u001b[39;00m word \u001b[38;5;129;01min\u001b[39;00m sent\u001b[38;5;241m.\u001b[39mwords], sep\u001b[38;5;241m=\u001b[39m\u001b[38;5;124m'\u001b[39m\u001b[38;5;130;01m\\n\u001b[39;00m\u001b[38;5;124m'\u001b[39m)\n",
      "\u001b[1;31mNameError\u001b[0m: name 'nlp' is not defined"
     ]
    }
   ],
   "source": [
    "doc = nlp(\"Barack Obama was born in Hawaii.\")\n",
    "print(*[f'word: {word.text+\" \"}\\tlemma: {word.lemma}' for sent in doc.sentences for word in sent.words], sep='\\n')"
   ]
  },
  {
   "cell_type": "code",
   "execution_count": null,
   "metadata": {},
   "outputs": [],
   "source": []
  },
  {
   "cell_type": "code",
   "execution_count": null,
   "metadata": {},
   "outputs": [],
   "source": []
  },
  {
   "cell_type": "markdown",
   "metadata": {},
   "source": []
  },
  {
   "cell_type": "code",
   "execution_count": null,
   "metadata": {},
   "outputs": [],
   "source": []
  }
 ],
 "metadata": {
  "kernelspec": {
   "display_name": "Python 3",
   "language": "python",
   "name": "python3"
  },
  "language_info": {
   "codemirror_mode": {
    "name": "ipython",
    "version": 3
   },
   "file_extension": ".py",
   "mimetype": "text/x-python",
   "name": "python",
   "nbconvert_exporter": "python",
   "pygments_lexer": "ipython3",
   "version": "3.11.9"
  }
 },
 "nbformat": 4,
 "nbformat_minor": 2
}
